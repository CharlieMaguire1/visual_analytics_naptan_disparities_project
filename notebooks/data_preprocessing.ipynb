{
 "cells": [
  {
   "cell_type": "markdown",
   "id": "5434db3f-3606-4db0-9a89-6bf7c86c1028",
   "metadata": {},
   "source": [
    "# Preprocessing"
   ]
  },
  {
   "cell_type": "markdown",
   "id": "5e8cdd32-e175-459d-a8ce-97e25be91175",
   "metadata": {},
   "source": [
    "### Dataset\n",
    "- Dataset source: https://www.data.gov.uk/dataset/ff93ffc1-6656-47d8-9155-85ea0b8f2251/national-public-transport-access-nodes-naptan\n",
    "- Last Updated in 23 August 2022 by the Department for Transport"
   ]
  },
  {
   "cell_type": "markdown",
   "id": "55dc22b9-f2af-4042-92a0-5d55069818ee",
   "metadata": {},
   "source": [
    "### Methodology\n",
    "- Using Schneiderman's Mantra to approach the Visual Analytics Process"
   ]
  },
  {
   "cell_type": "markdown",
   "id": "d48fe8d3-14e7-457a-b843-db6031ce5c0f",
   "metadata": {},
   "source": [
    "## 1. Overview of Data"
   ]
  },
  {
   "cell_type": "code",
   "execution_count": 18,
   "id": "0abc535a-3612-4062-a646-5fc83634c2f0",
   "metadata": {},
   "outputs": [
    {
     "name": "stdout",
     "output_type": "stream",
     "text": [
      "Collecting pyproj\n",
      "  Downloading pyproj-3.7.0-cp311-cp311-win_amd64.whl.metadata (31 kB)\n",
      "Requirement already satisfied: certifi in c:\\users\\bretu\\anaconda3\\lib\\site-packages (from pyproj) (2024.8.30)\n",
      "Downloading pyproj-3.7.0-cp311-cp311-win_amd64.whl (6.2 MB)\n",
      "   ---------------------------------------- 0.0/6.2 MB ? eta -:--:--\n",
      "    --------------------------------------- 0.1/6.2 MB 2.6 MB/s eta 0:00:03\n",
      "   ---- ----------------------------------- 0.7/6.2 MB 8.7 MB/s eta 0:00:01\n",
      "   ------------- -------------------------- 2.1/6.2 MB 18.9 MB/s eta 0:00:01\n",
      "   ------------- -------------------------- 2.1/6.2 MB 18.9 MB/s eta 0:00:01\n",
      "   -------------------- ------------------- 3.1/6.2 MB 16.7 MB/s eta 0:00:01\n",
      "   ----------------------- ---------------- 3.6/6.2 MB 13.6 MB/s eta 0:00:01\n",
      "   ---------------------------------------  6.2/6.2 MB 20.9 MB/s eta 0:00:01\n",
      "   ---------------------------------------- 6.2/6.2 MB 19.9 MB/s eta 0:00:00\n",
      "Installing collected packages: pyproj\n",
      "Successfully installed pyproj-3.7.0\n"
     ]
    }
   ],
   "source": [
    "!pip install pyproj"
   ]
  },
  {
   "cell_type": "code",
   "execution_count": 51,
   "id": "48c33696-bfd9-41a0-b782-33ccc72d6556",
   "metadata": {},
   "outputs": [
    {
     "name": "stdout",
     "output_type": "stream",
     "text": [
      "Collecting geopy\n",
      "  Downloading geopy-2.4.1-py3-none-any.whl.metadata (6.8 kB)\n",
      "Collecting geographiclib<3,>=1.52 (from geopy)\n",
      "  Downloading geographiclib-2.0-py3-none-any.whl.metadata (1.4 kB)\n",
      "Downloading geopy-2.4.1-py3-none-any.whl (125 kB)\n",
      "   ---------------------------------------- 0.0/125.4 kB ? eta -:--:--\n",
      "   --- ------------------------------------ 10.2/125.4 kB ? eta -:--:--\n",
      "   ---------------------------------------  122.9/125.4 kB 1.4 MB/s eta 0:00:01\n",
      "   ---------------------------------------- 125.4/125.4 kB 1.5 MB/s eta 0:00:00\n",
      "Downloading geographiclib-2.0-py3-none-any.whl (40 kB)\n",
      "   ---------------------------------------- 0.0/40.3 kB ? eta -:--:--\n",
      "   ---------------------------------------- 40.3/40.3 kB 1.9 MB/s eta 0:00:00\n",
      "Installing collected packages: geographiclib, geopy\n",
      "Successfully installed geographiclib-2.0 geopy-2.4.1\n"
     ]
    }
   ],
   "source": [
    "!pip install geopy"
   ]
  },
  {
   "cell_type": "code",
   "execution_count": 136,
   "id": "63382bc7-ab45-4260-9205-1697e1ad8b58",
   "metadata": {},
   "outputs": [],
   "source": [
    "# Importing necessary libraries\n",
    "import pandas as pd\n",
    "import matplotlib.pyplot as plt\n",
    "import seaborn as sns\n",
    "from pyproj import Proj, transform # 2nd iteration\n",
    "from sklearn.experimental import enable_iterative_imputer\n",
    "from sklearn.impute import KNNImputer, IterativeImputer\n",
    "from sklearn.preprocessing import LabelEncoder, MinMaxScaler, StandardScaler\n",
    "import numpy as np\n",
    "from sklearn.impute import SimpleImputer\n",
    "from sklearn.cluster import KMeans"
   ]
  },
  {
   "cell_type": "code",
   "execution_count": 106,
   "id": "efd23ef7-cef0-425b-b35e-eb01c8e5b4ab",
   "metadata": {
    "scrolled": true
   },
   "outputs": [
    {
     "name": "stdout",
     "output_type": "stream",
     "text": [
      "<class 'pandas.core.frame.DataFrame'>\n",
      "RangeIndex: 435046 entries, 0 to 435045\n",
      "Data columns (total 43 columns):\n",
      " #   Column                   Non-Null Count   Dtype  \n",
      "---  ------                   --------------   -----  \n",
      " 0   ATCOCode                 435046 non-null  object \n",
      " 1   NaptanCode               409329 non-null  object \n",
      " 2   PlateCode                62938 non-null   object \n",
      " 3   CleardownCode            0 non-null       float64\n",
      " 4   CommonName               435046 non-null  object \n",
      " 5   CommonNameLang           0 non-null       float64\n",
      " 6   ShortCommonName          96644 non-null   object \n",
      " 7   ShortCommonNameLang      0 non-null       float64\n",
      " 8   Landmark                 251191 non-null  object \n",
      " 9   LandmarkLang             0 non-null       float64\n",
      " 10  Street                   411203 non-null  object \n",
      " 11  StreetLang               0 non-null       float64\n",
      " 12  Crossing                 0 non-null       float64\n",
      " 13  CrossingLang             0 non-null       float64\n",
      " 14  Indicator                411682 non-null  object \n",
      " 15  IndicatorLang            0 non-null       float64\n",
      " 16  Bearing                  411211 non-null  object \n",
      " 17  NptgLocalityCode         435046 non-null  object \n",
      " 18  LocalityName             435046 non-null  object \n",
      " 19  ParentLocalityName       189949 non-null  object \n",
      " 20  GrandParentLocalityName  0 non-null       float64\n",
      " 21  Town                     155596 non-null  object \n",
      " 22  TownLang                 15198 non-null   object \n",
      " 23  Suburb                   72837 non-null   object \n",
      " 24  SuburbLang               11649 non-null   object \n",
      " 25  LocalityCentre           428826 non-null  object \n",
      " 26  GridType                 418680 non-null  object \n",
      " 27  Easting                  435046 non-null  int64  \n",
      " 28  Northing                 435046 non-null  int64  \n",
      " 29  Longitude                382614 non-null  float64\n",
      " 30  Latitude                 382614 non-null  float64\n",
      " 31  StopType                 435046 non-null  object \n",
      " 32  BusStopType              416691 non-null  object \n",
      " 33  TimingStatus             419878 non-null  object \n",
      " 34  DefaultWaitTime          0 non-null       float64\n",
      " 35  Notes                    0 non-null       float64\n",
      " 36  NotesLang                0 non-null       float64\n",
      " 37  AdministrativeAreaCode   435046 non-null  int64  \n",
      " 38  CreationDateTime         435046 non-null  object \n",
      " 39  ModificationDateTime     434614 non-null  object \n",
      " 40  RevisionNumber           424264 non-null  float64\n",
      " 41  Modification             399719 non-null  object \n",
      " 42  Status                   435046 non-null  object \n",
      "dtypes: float64(15), int64(3), object(25)\n",
      "memory usage: 142.7+ MB\n"
     ]
    },
    {
     "data": {
      "text/html": [
       "<div>\n",
       "<style scoped>\n",
       "    .dataframe tbody tr th:only-of-type {\n",
       "        vertical-align: middle;\n",
       "    }\n",
       "\n",
       "    .dataframe tbody tr th {\n",
       "        vertical-align: top;\n",
       "    }\n",
       "\n",
       "    .dataframe thead th {\n",
       "        text-align: right;\n",
       "    }\n",
       "</style>\n",
       "<table border=\"1\" class=\"dataframe\">\n",
       "  <thead>\n",
       "    <tr style=\"text-align: right;\">\n",
       "      <th></th>\n",
       "      <th>ATCOCode</th>\n",
       "      <th>NaptanCode</th>\n",
       "      <th>PlateCode</th>\n",
       "      <th>CleardownCode</th>\n",
       "      <th>CommonName</th>\n",
       "      <th>CommonNameLang</th>\n",
       "      <th>ShortCommonName</th>\n",
       "      <th>ShortCommonNameLang</th>\n",
       "      <th>Landmark</th>\n",
       "      <th>LandmarkLang</th>\n",
       "      <th>...</th>\n",
       "      <th>TimingStatus</th>\n",
       "      <th>DefaultWaitTime</th>\n",
       "      <th>Notes</th>\n",
       "      <th>NotesLang</th>\n",
       "      <th>AdministrativeAreaCode</th>\n",
       "      <th>CreationDateTime</th>\n",
       "      <th>ModificationDateTime</th>\n",
       "      <th>RevisionNumber</th>\n",
       "      <th>Modification</th>\n",
       "      <th>Status</th>\n",
       "    </tr>\n",
       "  </thead>\n",
       "  <tbody>\n",
       "    <tr>\n",
       "      <th>0</th>\n",
       "      <td>0100BRP90310</td>\n",
       "      <td>bstgwpa</td>\n",
       "      <td>NaN</td>\n",
       "      <td>NaN</td>\n",
       "      <td>Temple Meads Stn</td>\n",
       "      <td>NaN</td>\n",
       "      <td>Temple Meads Stn</td>\n",
       "      <td>NaN</td>\n",
       "      <td>NaN</td>\n",
       "      <td>NaN</td>\n",
       "      <td>...</td>\n",
       "      <td>OTH</td>\n",
       "      <td>NaN</td>\n",
       "      <td>NaN</td>\n",
       "      <td>NaN</td>\n",
       "      <td>9</td>\n",
       "      <td>2009-08-25T00:00:00</td>\n",
       "      <td>2023-04-21T18:02:19</td>\n",
       "      <td>99.0</td>\n",
       "      <td>new</td>\n",
       "      <td>active</td>\n",
       "    </tr>\n",
       "    <tr>\n",
       "      <th>1</th>\n",
       "      <td>0100BRP90311</td>\n",
       "      <td>bstgwpm</td>\n",
       "      <td>NaN</td>\n",
       "      <td>NaN</td>\n",
       "      <td>Temple Meads Stn</td>\n",
       "      <td>NaN</td>\n",
       "      <td>Temple Meads Stn</td>\n",
       "      <td>NaN</td>\n",
       "      <td>NaN</td>\n",
       "      <td>NaN</td>\n",
       "      <td>...</td>\n",
       "      <td>OTH</td>\n",
       "      <td>NaN</td>\n",
       "      <td>NaN</td>\n",
       "      <td>NaN</td>\n",
       "      <td>9</td>\n",
       "      <td>2009-08-25T00:00:00</td>\n",
       "      <td>2019-09-13T10:41:38</td>\n",
       "      <td>73.0</td>\n",
       "      <td>new</td>\n",
       "      <td>active</td>\n",
       "    </tr>\n",
       "    <tr>\n",
       "      <th>2</th>\n",
       "      <td>10000056</td>\n",
       "      <td>bstpjgw</td>\n",
       "      <td>NaN</td>\n",
       "      <td>NaN</td>\n",
       "      <td>Temple Meads Stn</td>\n",
       "      <td>NaN</td>\n",
       "      <td>Temple Meads Stn</td>\n",
       "      <td>NaN</td>\n",
       "      <td>NaN</td>\n",
       "      <td>NaN</td>\n",
       "      <td>...</td>\n",
       "      <td>OTH</td>\n",
       "      <td>NaN</td>\n",
       "      <td>NaN</td>\n",
       "      <td>NaN</td>\n",
       "      <td>9</td>\n",
       "      <td>2019-08-06T00:00:00</td>\n",
       "      <td>2019-08-06T11:09:11</td>\n",
       "      <td>120.0</td>\n",
       "      <td>new</td>\n",
       "      <td>active</td>\n",
       "    </tr>\n",
       "    <tr>\n",
       "      <th>3</th>\n",
       "      <td>0100BRP90312</td>\n",
       "      <td>bstjaja</td>\n",
       "      <td>NaN</td>\n",
       "      <td>NaN</td>\n",
       "      <td>Temple Meads Stn</td>\n",
       "      <td>NaN</td>\n",
       "      <td>Temple Meads Stn</td>\n",
       "      <td>NaN</td>\n",
       "      <td>NaN</td>\n",
       "      <td>NaN</td>\n",
       "      <td>...</td>\n",
       "      <td>OTH</td>\n",
       "      <td>NaN</td>\n",
       "      <td>NaN</td>\n",
       "      <td>NaN</td>\n",
       "      <td>9</td>\n",
       "      <td>2009-08-25T00:00:00</td>\n",
       "      <td>2020-11-26T13:23:29</td>\n",
       "      <td>45.0</td>\n",
       "      <td>new</td>\n",
       "      <td>active</td>\n",
       "    </tr>\n",
       "    <tr>\n",
       "      <th>4</th>\n",
       "      <td>0100BRP90313</td>\n",
       "      <td>bstjama</td>\n",
       "      <td>NaN</td>\n",
       "      <td>NaN</td>\n",
       "      <td>Temple Meads Stn</td>\n",
       "      <td>NaN</td>\n",
       "      <td>Temple Meads Stn</td>\n",
       "      <td>NaN</td>\n",
       "      <td>NaN</td>\n",
       "      <td>NaN</td>\n",
       "      <td>...</td>\n",
       "      <td>OTH</td>\n",
       "      <td>NaN</td>\n",
       "      <td>NaN</td>\n",
       "      <td>NaN</td>\n",
       "      <td>9</td>\n",
       "      <td>2009-08-25T00:00:00</td>\n",
       "      <td>2020-11-26T13:22:13</td>\n",
       "      <td>44.0</td>\n",
       "      <td>new</td>\n",
       "      <td>active</td>\n",
       "    </tr>\n",
       "  </tbody>\n",
       "</table>\n",
       "<p>5 rows × 43 columns</p>\n",
       "</div>"
      ],
      "text/plain": [
       "       ATCOCode NaptanCode PlateCode  CleardownCode        CommonName  \\\n",
       "0  0100BRP90310    bstgwpa       NaN            NaN  Temple Meads Stn   \n",
       "1  0100BRP90311    bstgwpm       NaN            NaN  Temple Meads Stn   \n",
       "2      10000056    bstpjgw       NaN            NaN  Temple Meads Stn   \n",
       "3  0100BRP90312    bstjaja       NaN            NaN  Temple Meads Stn   \n",
       "4  0100BRP90313    bstjama       NaN            NaN  Temple Meads Stn   \n",
       "\n",
       "   CommonNameLang   ShortCommonName  ShortCommonNameLang Landmark  \\\n",
       "0             NaN  Temple Meads Stn                  NaN      NaN   \n",
       "1             NaN  Temple Meads Stn                  NaN      NaN   \n",
       "2             NaN  Temple Meads Stn                  NaN      NaN   \n",
       "3             NaN  Temple Meads Stn                  NaN      NaN   \n",
       "4             NaN  Temple Meads Stn                  NaN      NaN   \n",
       "\n",
       "   LandmarkLang  ... TimingStatus  DefaultWaitTime  Notes  NotesLang  \\\n",
       "0           NaN  ...          OTH              NaN    NaN        NaN   \n",
       "1           NaN  ...          OTH              NaN    NaN        NaN   \n",
       "2           NaN  ...          OTH              NaN    NaN        NaN   \n",
       "3           NaN  ...          OTH              NaN    NaN        NaN   \n",
       "4           NaN  ...          OTH              NaN    NaN        NaN   \n",
       "\n",
       "  AdministrativeAreaCode     CreationDateTime ModificationDateTime  \\\n",
       "0                      9  2009-08-25T00:00:00  2023-04-21T18:02:19   \n",
       "1                      9  2009-08-25T00:00:00  2019-09-13T10:41:38   \n",
       "2                      9  2019-08-06T00:00:00  2019-08-06T11:09:11   \n",
       "3                      9  2009-08-25T00:00:00  2020-11-26T13:23:29   \n",
       "4                      9  2009-08-25T00:00:00  2020-11-26T13:22:13   \n",
       "\n",
       "  RevisionNumber Modification  Status  \n",
       "0           99.0          new  active  \n",
       "1           73.0          new  active  \n",
       "2          120.0          new  active  \n",
       "3           45.0          new  active  \n",
       "4           44.0          new  active  \n",
       "\n",
       "[5 rows x 43 columns]"
      ]
     },
     "execution_count": 106,
     "metadata": {},
     "output_type": "execute_result"
    }
   ],
   "source": [
    "# An overview of the NaPTAN dataset\n",
    "stops_data = pd.read_csv('../data/raw/stops.csv', low_memory = False)\n",
    "stops_data.info()\n",
    "stops_data.describe()\n",
    "stops_data.head()"
   ]
  },
  {
   "cell_type": "markdown",
   "id": "32c95cb8-98dc-49e7-bad3-f5f00a8d48c4",
   "metadata": {},
   "source": [
    "## 2. Zoom and Filter (And using Overview at the end of stages)"
   ]
  },
  {
   "cell_type": "markdown",
   "id": "595d74a3-f6e7-46c5-82f2-02218ece5a9e",
   "metadata": {},
   "source": [
    "#### a. Handling Missing and Conflicting Values (1st iteration)"
   ]
  },
  {
   "cell_type": "markdown",
   "id": "e8569839-389c-41a0-b76c-3ef9caed03d7",
   "metadata": {},
   "source": [
    "##### The \"Modification\" and \"Status\" columns\n",
    "- I want to define rules to handle the rows that have the values: delete, inactive and pending. I'm doing this because the dataset should represent active stops.\n",
    "- I will keep the rows with the \"pending\" value but treat this as a potential limitation, because of the maintenance records. This might change depending on the results."
   ]
  },
  {
   "cell_type": "code",
   "execution_count": 107,
   "id": "bd285814-7377-4899-b8e0-53501c80f641",
   "metadata": {},
   "outputs": [
    {
     "name": "stdout",
     "output_type": "stream",
     "text": [
      "Rows removed: 17935\n"
     ]
    }
   ],
   "source": [
    "# Dropping the rows with 'delete' and 'inactive' string values\n",
    "stops_data = stops_data[~((stops_data['Modification'] == 'delete') & (stops_data['Status'] == 'inactive'))]\n",
    "\n",
    "# Check the number of rows removed\n",
    "initial_minus_first_column = 435045\n",
    "print(f\"Rows removed: {initial_minus_first_column - stops_data.shape[0]}\")"
   ]
  },
  {
   "cell_type": "code",
   "execution_count": 108,
   "id": "78662bfb-9d34-4f33-a5f6-7696e6744bdd",
   "metadata": {
    "scrolled": true
   },
   "outputs": [
    {
     "name": "stdout",
     "output_type": "stream",
     "text": [
      "DefaultWaitTime            1.000000\n",
      "Notes                      1.000000\n",
      "IndicatorLang              1.000000\n",
      "CrossingLang               1.000000\n",
      "Crossing                   1.000000\n",
      "StreetLang                 1.000000\n",
      "LandmarkLang               1.000000\n",
      "GrandParentLocalityName    1.000000\n",
      "ShortCommonNameLang        1.000000\n",
      "CommonNameLang             1.000000\n",
      "NotesLang                  1.000000\n",
      "CleardownCode              1.000000\n",
      "SuburbLang                 0.972952\n",
      "TownLang                   0.964678\n",
      "PlateCode                  0.849222\n",
      "Suburb                     0.829594\n",
      "ShortCommonName            0.772012\n",
      "Town                       0.638520\n",
      "ParentLocalityName         0.563698\n",
      "Landmark                   0.414246\n",
      "Latitude                   0.125600\n",
      "Longitude                  0.125600\n",
      "Modification               0.084695\n",
      "Indicator                  0.055501\n",
      "Street                     0.054997\n",
      "Bearing                    0.053240\n",
      "NaptanCode                 0.046932\n",
      "BusStopType                0.041080\n",
      "GridType                   0.039227\n",
      "TimingStatus               0.034768\n",
      "RevisionNumber             0.025849\n",
      "LocalityCentre             0.014903\n",
      "ModificationDateTime       0.001036\n",
      "AdministrativeAreaCode     0.000000\n",
      "CreationDateTime           0.000000\n",
      "ATCOCode                   0.000000\n",
      "StopType                   0.000000\n",
      "Northing                   0.000000\n",
      "Easting                    0.000000\n",
      "LocalityName               0.000000\n",
      "NptgLocalityCode           0.000000\n",
      "CommonName                 0.000000\n",
      "Status                     0.000000\n",
      "dtype: float64\n"
     ]
    }
   ],
   "source": [
    "# Displaying the ratio of missing values in features (0 for no missing values)\n",
    "missing_ratio = stops_data.isnull().mean()\n",
    "print(missing_ratio.sort_values(ascending = False))"
   ]
  },
  {
   "cell_type": "markdown",
   "id": "ce83ac83-498c-4da6-80fa-3a1bc8ddddad",
   "metadata": {},
   "source": [
    "##### The \"LocalityCentre\" column (1st iteration)\n",
    "- This column of an object data type has mixed values (i.e. TRUE, FALSE, 1, 0)\n",
    "- These columns need to be consistent (i.e. True, False)."
   ]
  },
  {
   "cell_type": "code",
   "execution_count": 109,
   "id": "7ae21ae9-f783-4aa2-892a-e06dde11a0b2",
   "metadata": {},
   "outputs": [],
   "source": [
    "stops_data['LocalityCentre'] = stops_data['LocalityCentre'].map({'TRUE' : True, '1' : True, 'FALSE' : False, \n",
    "                                                                 '0' : False})"
   ]
  },
  {
   "cell_type": "markdown",
   "id": "1c138f87-f39d-4bfa-9fd4-c210be8ab785",
   "metadata": {},
   "source": [
    "**2nd ITERATION - The \"LocalityCentre\" column**\n",
    "- Converting the column now \n",
    "- Using the astype() method to change this column to a bool as they now contain consistent **True** and **False** values.\n",
    "- This is good for the logical aspects of analysis and to make it easier for human reasoning.\n",
    "- Source: https://www.w3schools.com/python/pandas/ref_df_astype.asp"
   ]
  },
  {
   "cell_type": "code",
   "execution_count": 110,
   "id": "1c032e04-76a9-4348-849a-288091174287",
   "metadata": {},
   "outputs": [],
   "source": [
    "stops_data['LocalityCentre'] = stops_data['LocalityCentre'].astype('bool')"
   ]
  },
  {
   "cell_type": "markdown",
   "id": "01262042-8f44-42a2-a423-a46cbc24d7f4",
   "metadata": {},
   "source": [
    "##### Missing Geographical Data (1st iteration)\n",
    "- Identify the rows with the missing geospatial data\n",
    "- Then separate the missing geospatial data for analysis (It may be useful later, or if we having an imputation solution)"
   ]
  },
  {
   "cell_type": "code",
   "execution_count": 111,
   "id": "ed083b54-d535-455a-89c5-0d08f3a046e2",
   "metadata": {},
   "outputs": [
    {
     "name": "stdout",
     "output_type": "stream",
     "text": [
      "Rows with missing geospatial data: 52389\n"
     ]
    }
   ],
   "source": [
    "# Checking how many rows with missing geospatial data\n",
    "missing_geo_data = stops_data[stops_data['Longitude'].isna() | \n",
    "stops_data['Latitude'].isna()]\n",
    "print(f\"Rows with missing geospatial data: {missing_geo_data.shape[0]}\")\n",
    "\n",
    "# Separate geospatial data for analysis\n",
    "stops_data = stops_data.dropna(subset = ['Longitude', 'Latitude'])\n",
    "stops_data_without_geo = stops_data[stops_data['Longitude'].isna() & stops_data['Latitude'].isna()]"
   ]
  },
  {
   "cell_type": "markdown",
   "id": "a545835d-4db4-4ced-958f-1d945816c08f",
   "metadata": {},
   "source": [
    "##### General Missing Values (1st Iteration)\n",
    "- So far, 52389 rows have been removed due to missing geospatial data. Time to look at the columns.\n",
    "- There are lot of missing values in the columns. Some of them are understandable but I want to get a clearer picture of which columns to remove\n",
    "- I will remove the columns whose values are missing by 40% to 60%. "
   ]
  },
  {
   "cell_type": "code",
   "execution_count": 112,
   "id": "6ecf4b73-2f80-45c5-a1f1-896c6701a878",
   "metadata": {
    "scrolled": true
   },
   "outputs": [
    {
     "name": "stdout",
     "output_type": "stream",
     "text": [
      "StreetLang                 1.000000\n",
      "IndicatorLang              1.000000\n",
      "CleardownCode              1.000000\n",
      "DefaultWaitTime            1.000000\n",
      "CommonNameLang             1.000000\n",
      "GrandParentLocalityName    1.000000\n",
      "ShortCommonNameLang        1.000000\n",
      "LandmarkLang               1.000000\n",
      "NotesLang                  1.000000\n",
      "Crossing                   1.000000\n",
      "CrossingLang               1.000000\n",
      "Notes                      1.000000\n",
      "SuburbLang                 0.969067\n",
      "TownLang                   0.959605\n",
      "PlateCode                  0.827570\n",
      "Suburb                     0.817115\n",
      "ShortCommonName            0.753516\n",
      "Town                       0.691452\n",
      "ParentLocalityName         0.566562\n",
      "Landmark                   0.421580\n",
      "Street                     0.062393\n",
      "Indicator                  0.060279\n",
      "Bearing                    0.056490\n",
      "NaptanCode                 0.050809\n",
      "BusStopType                0.043976\n",
      "Modification               0.042698\n",
      "TimingStatus               0.037774\n",
      "RevisionNumber             0.015116\n",
      "GridType                   0.005144\n",
      "ModificationDateTime       0.000000\n",
      "CreationDateTime           0.000000\n",
      "AdministrativeAreaCode     0.000000\n",
      "ATCOCode                   0.000000\n",
      "StopType                   0.000000\n",
      "Latitude                   0.000000\n",
      "Longitude                  0.000000\n",
      "Northing                   0.000000\n",
      "Easting                    0.000000\n",
      "LocalityCentre             0.000000\n",
      "LocalityName               0.000000\n",
      "NptgLocalityCode           0.000000\n",
      "CommonName                 0.000000\n",
      "Status                     0.000000\n",
      "dtype: float64\n"
     ]
    }
   ],
   "source": [
    "# Displaying the ratio of missing values in features (0 for no missing values)\n",
    "missing_ratio = stops_data.isnull().mean()\n",
    "print(missing_ratio.sort_values(ascending = False))"
   ]
  },
  {
   "cell_type": "markdown",
   "id": "4461c217-04ee-4199-95fc-1b6723b9791a",
   "metadata": {},
   "source": [
    "**2nd Iteration - Missing Geographical Data**\n",
    "- I realised further down the preprocessing stage, that there are no missing values for \"Northing\" and \"Easting\" features. Therefore using the pyproj python library, I can convert the coordinate systems.\n",
    "- Therefore, 52389 rows have been restored and their Northing/Easting values converted to produce Longitude/Latitude values.\n",
    "- Source https://pyproj4.github.io/pyproj/stable/api/transformer.html"
   ]
  },
  {
   "cell_type": "code",
   "execution_count": 113,
   "id": "97716933-76c5-45d0-8ab1-cb59e48b7ffb",
   "metadata": {},
   "outputs": [
    {
     "name": "stdout",
     "output_type": "stream",
     "text": [
      "Rows with missing geospatial data after conversion: 0\n"
     ]
    }
   ],
   "source": [
    "# Adding back the rows with the missing geographical data (Longitude and Latitude)\n",
    "stops_data = pd.concat([stops_data, stops_data_without_geo])\n",
    "\n",
    "# Converting the Easting and Northing to Longitude and Latitude\n",
    "# Defining the Ordinance Survey National Grid projection for Easting/Northing\n",
    "osgb36 = Proj('epsg:27700') # For Easting/Northing\n",
    "wsg84 = Proj('epsg:4326') # For Latitude/Longitude\n",
    "\n",
    "# Creating a function to convert Easting/Northing to Lat/Long\n",
    "def convert_to_lon_lat(row):\n",
    "    if pd.notnull(row['Easting']) and pd.notnull(row['Northing']):\n",
    "        lon, lat = transform(osgb36, wsg84, row['Easting'], row['Northing'])\n",
    "        return pd.Series({'Longitude': lon, 'Latitude': lat})\n",
    "    return pd.Series({'Longitude': None, 'Latitude': None})\n",
    "\n",
    "# Applying the conversion to the rows with missing geographic data\n",
    "missing_geo_data_converted = stops_data[stops_data['Longitude'].isna() | stops_data['Latitude'].isna()]\n",
    "converted_coordinates = missing_geo_data_converted.apply(convert_to_lon_lat, axis = 1)\n",
    "\n",
    "# Updating the rows with converted Longitude and Latitude\n",
    "stops_data.loc[missing_geo_data_converted.index, ['Longitude', 'Latitude']] = converted_coordinates\n",
    "\n",
    "# Checking if all missing geo data is filled or not\n",
    "missing_geo_data_updated = stops_data[stops_data['Longitude'].isna() | stops_data['Latitude'].isna()]\n",
    "print(f\"Rows with missing geospatial data after conversion: {missing_geo_data_updated.shape[0]}\")"
   ]
  },
  {
   "cell_type": "code",
   "execution_count": 114,
   "id": "3cfaeaad-0e29-4a6c-a891-4262a3b99510",
   "metadata": {
    "scrolled": true
   },
   "outputs": [
    {
     "name": "stdout",
     "output_type": "stream",
     "text": [
      "StreetLang                 1.000000\n",
      "IndicatorLang              1.000000\n",
      "CleardownCode              1.000000\n",
      "DefaultWaitTime            1.000000\n",
      "CommonNameLang             1.000000\n",
      "GrandParentLocalityName    1.000000\n",
      "ShortCommonNameLang        1.000000\n",
      "LandmarkLang               1.000000\n",
      "NotesLang                  1.000000\n",
      "Crossing                   1.000000\n",
      "CrossingLang               1.000000\n",
      "Notes                      1.000000\n",
      "SuburbLang                 0.969067\n",
      "TownLang                   0.959605\n",
      "PlateCode                  0.827570\n",
      "Suburb                     0.817115\n",
      "ShortCommonName            0.753516\n",
      "Town                       0.691452\n",
      "ParentLocalityName         0.566562\n",
      "Landmark                   0.421580\n",
      "Street                     0.062393\n",
      "Indicator                  0.060279\n",
      "Bearing                    0.056490\n",
      "NaptanCode                 0.050809\n",
      "BusStopType                0.043976\n",
      "Modification               0.042698\n",
      "TimingStatus               0.037774\n",
      "RevisionNumber             0.015116\n",
      "GridType                   0.005144\n",
      "ModificationDateTime       0.000000\n",
      "CreationDateTime           0.000000\n",
      "AdministrativeAreaCode     0.000000\n",
      "ATCOCode                   0.000000\n",
      "StopType                   0.000000\n",
      "Latitude                   0.000000\n",
      "Longitude                  0.000000\n",
      "Northing                   0.000000\n",
      "Easting                    0.000000\n",
      "LocalityCentre             0.000000\n",
      "LocalityName               0.000000\n",
      "NptgLocalityCode           0.000000\n",
      "CommonName                 0.000000\n",
      "Status                     0.000000\n",
      "dtype: float64\n"
     ]
    }
   ],
   "source": [
    "# Displaying the ratio of missing values in features (0 for no missing values)\n",
    "missing_ratio = stops_data.isnull().mean()\n",
    "print(missing_ratio.sort_values(ascending = False))"
   ]
  },
  {
   "cell_type": "markdown",
   "id": "cd0d7724-4094-4722-8677-7b504c6d5e6c",
   "metadata": {},
   "source": [
    "- Therefore, there are 20 columns to remove. They are not critical for analysis in regards to the research question about rural vs urban."
   ]
  },
  {
   "cell_type": "code",
   "execution_count": 115,
   "id": "b4f91935-f37f-47a0-aa66-272285feb082",
   "metadata": {
    "scrolled": true
   },
   "outputs": [
    {
     "name": "stdout",
     "output_type": "stream",
     "text": [
      "Count of columns removed who had >40% missing values: ['StreetLang', 'IndicatorLang', 'CleardownCode', 'DefaultWaitTime', 'CommonNameLang', 'GrandParentLocalityName', 'ShortCommonNameLang', 'LandmarkLang', 'NotesLang', 'Crossing', 'CrossingLang', 'Notes', 'SuburbLang', 'TownLang', 'PlateCode', 'Suburb', 'ShortCommonName', 'Town', 'ParentLocalityName', 'Landmark']\n",
      "Columns remaining: Index(['ATCOCode', 'NaptanCode', 'CommonName', 'Street', 'Indicator',\n",
      "       'Bearing', 'NptgLocalityCode', 'LocalityName', 'LocalityCentre',\n",
      "       'GridType', 'Easting', 'Northing', 'Longitude', 'Latitude', 'StopType',\n",
      "       'BusStopType', 'TimingStatus', 'AdministrativeAreaCode',\n",
      "       'CreationDateTime', 'ModificationDateTime', 'RevisionNumber',\n",
      "       'Modification', 'Status'],\n",
      "      dtype='object')\n",
      "Rows and Columns remaining: (364721, 23)\n",
      "Street                    0.062393\n",
      "Indicator                 0.060279\n",
      "Bearing                   0.056490\n",
      "NaptanCode                0.050809\n",
      "BusStopType               0.043976\n",
      "Modification              0.042698\n",
      "TimingStatus              0.037774\n",
      "RevisionNumber            0.015116\n",
      "GridType                  0.005144\n",
      "ATCOCode                  0.000000\n",
      "StopType                  0.000000\n",
      "ModificationDateTime      0.000000\n",
      "CreationDateTime          0.000000\n",
      "AdministrativeAreaCode    0.000000\n",
      "Northing                  0.000000\n",
      "Latitude                  0.000000\n",
      "Longitude                 0.000000\n",
      "Easting                   0.000000\n",
      "LocalityCentre            0.000000\n",
      "LocalityName              0.000000\n",
      "NptgLocalityCode          0.000000\n",
      "CommonName                0.000000\n",
      "Status                    0.000000\n",
      "dtype: float64\n"
     ]
    }
   ],
   "source": [
    "# Calculating the percentages of missing values per column\n",
    "missing_percent = stops_data.isnull().mean() * 100\n",
    "\n",
    "# Displaying the column with missing values\n",
    "missing_percent_final = missing_percent.sort_values(ascending = False)\n",
    "\n",
    "# The threshold for removal is set to 40% missing data\n",
    "columns_to_drop = missing_percent_final[missing_percent_final > 40].index\n",
    "\n",
    "# Removing the columns\n",
    "stops_data = stops_data.drop(columns = columns_to_drop)\n",
    "\n",
    "# Displaying the removal and what columns remain\n",
    "print(f\"Count of columns removed who had >40% missing values: {list(columns_to_drop)}\")\n",
    "print(f\"Columns remaining: {stops_data.columns}\")\n",
    "print(f\"Rows and Columns remaining: {stops_data.shape}\")\n",
    "\n",
    "\n",
    "missing_ratio = stops_data.isnull().mean()\n",
    "print(missing_ratio.sort_values(ascending = False))"
   ]
  },
  {
   "cell_type": "markdown",
   "id": "29e282ea-773c-4264-ba25-b2b2707e3282",
   "metadata": {},
   "source": [
    "- After removing the columns with more than 40% missing values and separating 52389 rows of missing geospatial data, the current column with the highest missing values is the \"Street\" column with 6.2%. This is very low, and a positive result.\n"
   ]
  },
  {
   "cell_type": "code",
   "execution_count": 116,
   "id": "bfa935ab-a835-4c57-951a-2df165f3a432",
   "metadata": {
    "scrolled": true
   },
   "outputs": [
    {
     "name": "stdout",
     "output_type": "stream",
     "text": [
      "<class 'pandas.core.frame.DataFrame'>\n",
      "Int64Index: 364721 entries, 0 to 435045\n",
      "Data columns (total 23 columns):\n",
      " #   Column                  Non-Null Count   Dtype  \n",
      "---  ------                  --------------   -----  \n",
      " 0   ATCOCode                364721 non-null  object \n",
      " 1   NaptanCode              346190 non-null  object \n",
      " 2   CommonName              364721 non-null  object \n",
      " 3   Street                  341965 non-null  object \n",
      " 4   Indicator               342736 non-null  object \n",
      " 5   Bearing                 344118 non-null  object \n",
      " 6   NptgLocalityCode        364721 non-null  object \n",
      " 7   LocalityName            364721 non-null  object \n",
      " 8   LocalityCentre          364721 non-null  bool   \n",
      " 9   GridType                362845 non-null  object \n",
      " 10  Easting                 364721 non-null  int64  \n",
      " 11  Northing                364721 non-null  int64  \n",
      " 12  Longitude               364721 non-null  float64\n",
      " 13  Latitude                364721 non-null  float64\n",
      " 14  StopType                364721 non-null  object \n",
      " 15  BusStopType             348682 non-null  object \n",
      " 16  TimingStatus            350944 non-null  object \n",
      " 17  AdministrativeAreaCode  364721 non-null  int64  \n",
      " 18  CreationDateTime        364721 non-null  object \n",
      " 19  ModificationDateTime    364721 non-null  object \n",
      " 20  RevisionNumber          359208 non-null  float64\n",
      " 21  Modification            349148 non-null  object \n",
      " 22  Status                  364721 non-null  object \n",
      "dtypes: bool(1), float64(3), int64(3), object(16)\n",
      "memory usage: 72.4+ MB\n"
     ]
    }
   ],
   "source": [
    "stops_data.info()"
   ]
  },
  {
   "cell_type": "code",
   "execution_count": 117,
   "id": "3fe475f3-337f-4962-b566-2c6f32c5183b",
   "metadata": {},
   "outputs": [
    {
     "data": {
      "text/html": [
       "<div>\n",
       "<style scoped>\n",
       "    .dataframe tbody tr th:only-of-type {\n",
       "        vertical-align: middle;\n",
       "    }\n",
       "\n",
       "    .dataframe tbody tr th {\n",
       "        vertical-align: top;\n",
       "    }\n",
       "\n",
       "    .dataframe thead th {\n",
       "        text-align: right;\n",
       "    }\n",
       "</style>\n",
       "<table border=\"1\" class=\"dataframe\">\n",
       "  <thead>\n",
       "    <tr style=\"text-align: right;\">\n",
       "      <th></th>\n",
       "      <th>ATCOCode</th>\n",
       "      <th>NaptanCode</th>\n",
       "      <th>CommonName</th>\n",
       "      <th>Street</th>\n",
       "      <th>Indicator</th>\n",
       "      <th>Bearing</th>\n",
       "      <th>NptgLocalityCode</th>\n",
       "      <th>LocalityName</th>\n",
       "      <th>LocalityCentre</th>\n",
       "      <th>GridType</th>\n",
       "      <th>...</th>\n",
       "      <th>Latitude</th>\n",
       "      <th>StopType</th>\n",
       "      <th>BusStopType</th>\n",
       "      <th>TimingStatus</th>\n",
       "      <th>AdministrativeAreaCode</th>\n",
       "      <th>CreationDateTime</th>\n",
       "      <th>ModificationDateTime</th>\n",
       "      <th>RevisionNumber</th>\n",
       "      <th>Modification</th>\n",
       "      <th>Status</th>\n",
       "    </tr>\n",
       "  </thead>\n",
       "  <tbody>\n",
       "    <tr>\n",
       "      <th>0</th>\n",
       "      <td>0100BRP90310</td>\n",
       "      <td>bstgwpa</td>\n",
       "      <td>Temple Meads Stn</td>\n",
       "      <td>Redcliffe Way</td>\n",
       "      <td>T3</td>\n",
       "      <td>E</td>\n",
       "      <td>N0077020</td>\n",
       "      <td>Temple Meads</td>\n",
       "      <td>False</td>\n",
       "      <td>UKOS</td>\n",
       "      <td>...</td>\n",
       "      <td>51.44902</td>\n",
       "      <td>BCT</td>\n",
       "      <td>MKD</td>\n",
       "      <td>OTH</td>\n",
       "      <td>9</td>\n",
       "      <td>2009-08-25T00:00:00</td>\n",
       "      <td>2023-04-21T18:02:19</td>\n",
       "      <td>99.0</td>\n",
       "      <td>new</td>\n",
       "      <td>active</td>\n",
       "    </tr>\n",
       "    <tr>\n",
       "      <th>1</th>\n",
       "      <td>0100BRP90311</td>\n",
       "      <td>bstgwpm</td>\n",
       "      <td>Temple Meads Stn</td>\n",
       "      <td>Victoria Street</td>\n",
       "      <td>T7</td>\n",
       "      <td>NW</td>\n",
       "      <td>N0077020</td>\n",
       "      <td>Temple Meads</td>\n",
       "      <td>False</td>\n",
       "      <td>UKOS</td>\n",
       "      <td>...</td>\n",
       "      <td>51.45014</td>\n",
       "      <td>BCT</td>\n",
       "      <td>MKD</td>\n",
       "      <td>OTH</td>\n",
       "      <td>9</td>\n",
       "      <td>2009-08-25T00:00:00</td>\n",
       "      <td>2019-09-13T10:41:38</td>\n",
       "      <td>73.0</td>\n",
       "      <td>new</td>\n",
       "      <td>active</td>\n",
       "    </tr>\n",
       "    <tr>\n",
       "      <th>2</th>\n",
       "      <td>10000056</td>\n",
       "      <td>bstpjgw</td>\n",
       "      <td>Temple Meads Stn</td>\n",
       "      <td>Temple Gate</td>\n",
       "      <td>T2</td>\n",
       "      <td>N</td>\n",
       "      <td>N0077020</td>\n",
       "      <td>Temple Meads</td>\n",
       "      <td>False</td>\n",
       "      <td>UKOS</td>\n",
       "      <td>...</td>\n",
       "      <td>51.44967</td>\n",
       "      <td>BCT</td>\n",
       "      <td>MKD</td>\n",
       "      <td>OTH</td>\n",
       "      <td>9</td>\n",
       "      <td>2019-08-06T00:00:00</td>\n",
       "      <td>2019-08-06T11:09:11</td>\n",
       "      <td>120.0</td>\n",
       "      <td>new</td>\n",
       "      <td>active</td>\n",
       "    </tr>\n",
       "    <tr>\n",
       "      <th>3</th>\n",
       "      <td>0100BRP90312</td>\n",
       "      <td>bstjaja</td>\n",
       "      <td>Temple Meads Stn</td>\n",
       "      <td>Station Approach</td>\n",
       "      <td>T6</td>\n",
       "      <td>NE</td>\n",
       "      <td>N0077020</td>\n",
       "      <td>Temple Meads</td>\n",
       "      <td>False</td>\n",
       "      <td>UKOS</td>\n",
       "      <td>...</td>\n",
       "      <td>51.44898</td>\n",
       "      <td>BCT</td>\n",
       "      <td>MKD</td>\n",
       "      <td>OTH</td>\n",
       "      <td>9</td>\n",
       "      <td>2009-08-25T00:00:00</td>\n",
       "      <td>2020-11-26T13:23:29</td>\n",
       "      <td>45.0</td>\n",
       "      <td>new</td>\n",
       "      <td>active</td>\n",
       "    </tr>\n",
       "    <tr>\n",
       "      <th>4</th>\n",
       "      <td>0100BRP90313</td>\n",
       "      <td>bstjama</td>\n",
       "      <td>Temple Meads Stn</td>\n",
       "      <td>Station Approach</td>\n",
       "      <td>T5</td>\n",
       "      <td>NE</td>\n",
       "      <td>N0077020</td>\n",
       "      <td>Temple Meads</td>\n",
       "      <td>False</td>\n",
       "      <td>UKOS</td>\n",
       "      <td>...</td>\n",
       "      <td>51.44944</td>\n",
       "      <td>BCT</td>\n",
       "      <td>MKD</td>\n",
       "      <td>OTH</td>\n",
       "      <td>9</td>\n",
       "      <td>2009-08-25T00:00:00</td>\n",
       "      <td>2020-11-26T13:22:13</td>\n",
       "      <td>44.0</td>\n",
       "      <td>new</td>\n",
       "      <td>active</td>\n",
       "    </tr>\n",
       "  </tbody>\n",
       "</table>\n",
       "<p>5 rows × 23 columns</p>\n",
       "</div>"
      ],
      "text/plain": [
       "       ATCOCode NaptanCode        CommonName            Street Indicator  \\\n",
       "0  0100BRP90310    bstgwpa  Temple Meads Stn     Redcliffe Way        T3   \n",
       "1  0100BRP90311    bstgwpm  Temple Meads Stn   Victoria Street        T7   \n",
       "2      10000056    bstpjgw  Temple Meads Stn       Temple Gate        T2   \n",
       "3  0100BRP90312    bstjaja  Temple Meads Stn  Station Approach        T6   \n",
       "4  0100BRP90313    bstjama  Temple Meads Stn  Station Approach        T5   \n",
       "\n",
       "  Bearing NptgLocalityCode  LocalityName  LocalityCentre GridType  ...  \\\n",
       "0       E         N0077020  Temple Meads           False     UKOS  ...   \n",
       "1      NW         N0077020  Temple Meads           False     UKOS  ...   \n",
       "2       N         N0077020  Temple Meads           False     UKOS  ...   \n",
       "3      NE         N0077020  Temple Meads           False     UKOS  ...   \n",
       "4      NE         N0077020  Temple Meads           False     UKOS  ...   \n",
       "\n",
       "   Latitude  StopType  BusStopType  TimingStatus AdministrativeAreaCode  \\\n",
       "0  51.44902       BCT          MKD           OTH                      9   \n",
       "1  51.45014       BCT          MKD           OTH                      9   \n",
       "2  51.44967       BCT          MKD           OTH                      9   \n",
       "3  51.44898       BCT          MKD           OTH                      9   \n",
       "4  51.44944       BCT          MKD           OTH                      9   \n",
       "\n",
       "      CreationDateTime ModificationDateTime  RevisionNumber Modification  \\\n",
       "0  2009-08-25T00:00:00  2023-04-21T18:02:19            99.0          new   \n",
       "1  2009-08-25T00:00:00  2019-09-13T10:41:38            73.0          new   \n",
       "2  2019-08-06T00:00:00  2019-08-06T11:09:11           120.0          new   \n",
       "3  2009-08-25T00:00:00  2020-11-26T13:23:29            45.0          new   \n",
       "4  2009-08-25T00:00:00  2020-11-26T13:22:13            44.0          new   \n",
       "\n",
       "   Status  \n",
       "0  active  \n",
       "1  active  \n",
       "2  active  \n",
       "3  active  \n",
       "4  active  \n",
       "\n",
       "[5 rows x 23 columns]"
      ]
     },
     "execution_count": 117,
     "metadata": {},
     "output_type": "execute_result"
    }
   ],
   "source": [
    "stops_data.head()"
   ]
  },
  {
   "cell_type": "markdown",
   "id": "2fa99138-9e05-406b-948f-a0b650c17f05",
   "metadata": {},
   "source": [
    "**2nd Iteration**\n",
    "I want to check display some of the rows where RevisionNumber is NaN. I want to see if there are any patterns"
   ]
  },
  {
   "cell_type": "code",
   "execution_count": 118,
   "id": "02256116-e898-4b28-825b-40b19435e2ef",
   "metadata": {
    "scrolled": true
   },
   "outputs": [
    {
     "name": "stdout",
     "output_type": "stream",
     "text": [
      "Number of rows with missing RevisionNumber: 5513\n"
     ]
    },
    {
     "data": {
      "text/html": [
       "<div>\n",
       "<style scoped>\n",
       "    .dataframe tbody tr th:only-of-type {\n",
       "        vertical-align: middle;\n",
       "    }\n",
       "\n",
       "    .dataframe tbody tr th {\n",
       "        vertical-align: top;\n",
       "    }\n",
       "\n",
       "    .dataframe thead th {\n",
       "        text-align: right;\n",
       "    }\n",
       "</style>\n",
       "<table border=\"1\" class=\"dataframe\">\n",
       "  <thead>\n",
       "    <tr style=\"text-align: right;\">\n",
       "      <th></th>\n",
       "      <th>ATCOCode</th>\n",
       "      <th>NaptanCode</th>\n",
       "      <th>CommonName</th>\n",
       "      <th>Street</th>\n",
       "      <th>Indicator</th>\n",
       "      <th>Bearing</th>\n",
       "      <th>NptgLocalityCode</th>\n",
       "      <th>LocalityName</th>\n",
       "      <th>LocalityCentre</th>\n",
       "      <th>GridType</th>\n",
       "      <th>...</th>\n",
       "      <th>Latitude</th>\n",
       "      <th>StopType</th>\n",
       "      <th>BusStopType</th>\n",
       "      <th>TimingStatus</th>\n",
       "      <th>AdministrativeAreaCode</th>\n",
       "      <th>CreationDateTime</th>\n",
       "      <th>ModificationDateTime</th>\n",
       "      <th>RevisionNumber</th>\n",
       "      <th>Modification</th>\n",
       "      <th>Status</th>\n",
       "    </tr>\n",
       "  </thead>\n",
       "  <tbody>\n",
       "    <tr>\n",
       "      <th>32799</th>\n",
       "      <td>0690WNA02952</td>\n",
       "      <td>wrgmpmg</td>\n",
       "      <td>Penketh High School</td>\n",
       "      <td>Heath Road</td>\n",
       "      <td>o/s</td>\n",
       "      <td>E</td>\n",
       "      <td>E0053808</td>\n",
       "      <td>Penketh</td>\n",
       "      <td>True</td>\n",
       "      <td>NaN</td>\n",
       "      <td>...</td>\n",
       "      <td>53.387517</td>\n",
       "      <td>BCT</td>\n",
       "      <td>MKD</td>\n",
       "      <td>OTH</td>\n",
       "      <td>63</td>\n",
       "      <td>2019-04-08T11:27:29</td>\n",
       "      <td>2019-04-08T11:19:38</td>\n",
       "      <td>NaN</td>\n",
       "      <td>new</td>\n",
       "      <td>active</td>\n",
       "    </tr>\n",
       "    <tr>\n",
       "      <th>32800</th>\n",
       "      <td>0690WNA02953</td>\n",
       "      <td>wrgmpmj</td>\n",
       "      <td>Warrington Vale Royal College</td>\n",
       "      <td>Long Lane</td>\n",
       "      <td>Entance</td>\n",
       "      <td>NaN</td>\n",
       "      <td>E0043038</td>\n",
       "      <td>Orford</td>\n",
       "      <td>True</td>\n",
       "      <td>NaN</td>\n",
       "      <td>...</td>\n",
       "      <td>53.407577</td>\n",
       "      <td>BCE</td>\n",
       "      <td>NaN</td>\n",
       "      <td>NaN</td>\n",
       "      <td>63</td>\n",
       "      <td>2019-04-08T11:40:53</td>\n",
       "      <td>2019-04-08T11:33:38</td>\n",
       "      <td>NaN</td>\n",
       "      <td>new</td>\n",
       "      <td>active</td>\n",
       "    </tr>\n",
       "    <tr>\n",
       "      <th>32801</th>\n",
       "      <td>0690WNA02954</td>\n",
       "      <td>wrgmpmp</td>\n",
       "      <td>Hinton House</td>\n",
       "      <td>Birchwood Park Avenue</td>\n",
       "      <td>O/S</td>\n",
       "      <td>S</td>\n",
       "      <td>E0053799</td>\n",
       "      <td>Birchwood</td>\n",
       "      <td>True</td>\n",
       "      <td>NaN</td>\n",
       "      <td>...</td>\n",
       "      <td>53.427001</td>\n",
       "      <td>BCT</td>\n",
       "      <td>MKD</td>\n",
       "      <td>OTH</td>\n",
       "      <td>63</td>\n",
       "      <td>2019-11-26T13:44:15</td>\n",
       "      <td>2019-11-26T13:39:23</td>\n",
       "      <td>NaN</td>\n",
       "      <td>new</td>\n",
       "      <td>active</td>\n",
       "    </tr>\n",
       "    <tr>\n",
       "      <th>32808</th>\n",
       "      <td>0690WNA02961</td>\n",
       "      <td>wrgmpwp</td>\n",
       "      <td>ASDA Omega</td>\n",
       "      <td>Omega Boulevard</td>\n",
       "      <td>o\\s</td>\n",
       "      <td>W</td>\n",
       "      <td>E0053805</td>\n",
       "      <td>Great Sankey</td>\n",
       "      <td>True</td>\n",
       "      <td>NaN</td>\n",
       "      <td>...</td>\n",
       "      <td>53.413731</td>\n",
       "      <td>BCT</td>\n",
       "      <td>MKD</td>\n",
       "      <td>OTH</td>\n",
       "      <td>63</td>\n",
       "      <td>2020-03-20T10:35:45</td>\n",
       "      <td>2020-03-20T10:32:29</td>\n",
       "      <td>NaN</td>\n",
       "      <td>new</td>\n",
       "      <td>active</td>\n",
       "    </tr>\n",
       "    <tr>\n",
       "      <th>32809</th>\n",
       "      <td>0690WNA02962</td>\n",
       "      <td>wrgmtad</td>\n",
       "      <td>Plastic Omnium</td>\n",
       "      <td>Orion Boulevard</td>\n",
       "      <td>o\\s</td>\n",
       "      <td>E</td>\n",
       "      <td>E0053805</td>\n",
       "      <td>Great Sankey</td>\n",
       "      <td>True</td>\n",
       "      <td>NaN</td>\n",
       "      <td>...</td>\n",
       "      <td>53.407256</td>\n",
       "      <td>BCT</td>\n",
       "      <td>MKD</td>\n",
       "      <td>OTH</td>\n",
       "      <td>63</td>\n",
       "      <td>2020-03-20T10:57:12</td>\n",
       "      <td>2020-03-20T10:50:39</td>\n",
       "      <td>NaN</td>\n",
       "      <td>new</td>\n",
       "      <td>active</td>\n",
       "    </tr>\n",
       "    <tr>\n",
       "      <th>...</th>\n",
       "      <td>...</td>\n",
       "      <td>...</td>\n",
       "      <td>...</td>\n",
       "      <td>...</td>\n",
       "      <td>...</td>\n",
       "      <td>...</td>\n",
       "      <td>...</td>\n",
       "      <td>...</td>\n",
       "      <td>...</td>\n",
       "      <td>...</td>\n",
       "      <td>...</td>\n",
       "      <td>...</td>\n",
       "      <td>...</td>\n",
       "      <td>...</td>\n",
       "      <td>...</td>\n",
       "      <td>...</td>\n",
       "      <td>...</td>\n",
       "      <td>...</td>\n",
       "      <td>...</td>\n",
       "      <td>...</td>\n",
       "      <td>...</td>\n",
       "    </tr>\n",
       "    <tr>\n",
       "      <th>376941</th>\n",
       "      <td>5810WDB48133</td>\n",
       "      <td>swatpdg</td>\n",
       "      <td>Crwys Terrace</td>\n",
       "      <td>Heol Cadifor</td>\n",
       "      <td>opp number 4</td>\n",
       "      <td>W</td>\n",
       "      <td>E0042367</td>\n",
       "      <td>Penlan</td>\n",
       "      <td>True</td>\n",
       "      <td>NaN</td>\n",
       "      <td>...</td>\n",
       "      <td>51.654729</td>\n",
       "      <td>BCT</td>\n",
       "      <td>MKD</td>\n",
       "      <td>OTH</td>\n",
       "      <td>56</td>\n",
       "      <td>2024-11-04T11:13:59</td>\n",
       "      <td>2024-11-04T11:11:45</td>\n",
       "      <td>NaN</td>\n",
       "      <td>new</td>\n",
       "      <td>active</td>\n",
       "    </tr>\n",
       "    <tr>\n",
       "      <th>378256</th>\n",
       "      <td>5820WDB48460</td>\n",
       "      <td>nptmapg</td>\n",
       "      <td>Margam Crematorium</td>\n",
       "      <td>NaN</td>\n",
       "      <td>Car Park</td>\n",
       "      <td>N</td>\n",
       "      <td>E0054426</td>\n",
       "      <td>Margam</td>\n",
       "      <td>True</td>\n",
       "      <td>NaN</td>\n",
       "      <td>...</td>\n",
       "      <td>51.556526</td>\n",
       "      <td>BCT</td>\n",
       "      <td>CUS</td>\n",
       "      <td>PPT</td>\n",
       "      <td>34</td>\n",
       "      <td>2024-05-02T11:32:53</td>\n",
       "      <td>2024-05-02T11:13:56</td>\n",
       "      <td>NaN</td>\n",
       "      <td>new</td>\n",
       "      <td>active</td>\n",
       "    </tr>\n",
       "    <tr>\n",
       "      <th>378258</th>\n",
       "      <td>5820WDB48462</td>\n",
       "      <td>nptmamp</td>\n",
       "      <td>Crymlyn Parc</td>\n",
       "      <td>NaN</td>\n",
       "      <td>NaN</td>\n",
       "      <td>N</td>\n",
       "      <td>E0054418</td>\n",
       "      <td>Coedffranc</td>\n",
       "      <td>True</td>\n",
       "      <td>NaN</td>\n",
       "      <td>...</td>\n",
       "      <td>51.655420</td>\n",
       "      <td>BCT</td>\n",
       "      <td>MKD</td>\n",
       "      <td>OTH</td>\n",
       "      <td>34</td>\n",
       "      <td>2024-05-02T14:26:07</td>\n",
       "      <td>2024-05-02T14:23:59</td>\n",
       "      <td>NaN</td>\n",
       "      <td>new</td>\n",
       "      <td>active</td>\n",
       "    </tr>\n",
       "    <tr>\n",
       "      <th>378259</th>\n",
       "      <td>5820WDB48463</td>\n",
       "      <td>nptmamt</td>\n",
       "      <td>Crymlyn Road</td>\n",
       "      <td>NaN</td>\n",
       "      <td>NaN</td>\n",
       "      <td>SW</td>\n",
       "      <td>E0054418</td>\n",
       "      <td>Coedffranc</td>\n",
       "      <td>True</td>\n",
       "      <td>NaN</td>\n",
       "      <td>...</td>\n",
       "      <td>51.655829</td>\n",
       "      <td>BCT</td>\n",
       "      <td>MKD</td>\n",
       "      <td>OTH</td>\n",
       "      <td>34</td>\n",
       "      <td>2024-05-02T14:32:31</td>\n",
       "      <td>2024-05-02T14:31:16</td>\n",
       "      <td>NaN</td>\n",
       "      <td>new</td>\n",
       "      <td>active</td>\n",
       "    </tr>\n",
       "    <tr>\n",
       "      <th>378263</th>\n",
       "      <td>5820WDB48467</td>\n",
       "      <td>nptmapj</td>\n",
       "      <td>Margam Cemetery</td>\n",
       "      <td>NaN</td>\n",
       "      <td>O/S</td>\n",
       "      <td>N</td>\n",
       "      <td>E0054426</td>\n",
       "      <td>Margam</td>\n",
       "      <td>True</td>\n",
       "      <td>NaN</td>\n",
       "      <td>...</td>\n",
       "      <td>51.559561</td>\n",
       "      <td>BCT</td>\n",
       "      <td>CUS</td>\n",
       "      <td>OTH</td>\n",
       "      <td>34</td>\n",
       "      <td>2024-05-03T10:50:34</td>\n",
       "      <td>2024-05-03T10:47:22</td>\n",
       "      <td>NaN</td>\n",
       "      <td>new</td>\n",
       "      <td>active</td>\n",
       "    </tr>\n",
       "  </tbody>\n",
       "</table>\n",
       "<p>5513 rows × 23 columns</p>\n",
       "</div>"
      ],
      "text/plain": [
       "            ATCOCode NaptanCode                     CommonName  \\\n",
       "32799   0690WNA02952    wrgmpmg            Penketh High School   \n",
       "32800   0690WNA02953    wrgmpmj  Warrington Vale Royal College   \n",
       "32801   0690WNA02954    wrgmpmp                   Hinton House   \n",
       "32808   0690WNA02961    wrgmpwp                     ASDA Omega   \n",
       "32809   0690WNA02962    wrgmtad                 Plastic Omnium   \n",
       "...              ...        ...                            ...   \n",
       "376941  5810WDB48133    swatpdg                  Crwys Terrace   \n",
       "378256  5820WDB48460    nptmapg            Margam Crematorium    \n",
       "378258  5820WDB48462    nptmamp                   Crymlyn Parc   \n",
       "378259  5820WDB48463    nptmamt                  Crymlyn Road    \n",
       "378263  5820WDB48467    nptmapj                Margam Cemetery   \n",
       "\n",
       "                       Street     Indicator Bearing NptgLocalityCode  \\\n",
       "32799              Heath Road           o/s       E         E0053808   \n",
       "32800               Long Lane       Entance     NaN         E0043038   \n",
       "32801   Birchwood Park Avenue           O/S       S         E0053799   \n",
       "32808         Omega Boulevard           o\\s       W         E0053805   \n",
       "32809         Orion Boulevard           o\\s       E         E0053805   \n",
       "...                       ...           ...     ...              ...   \n",
       "376941           Heol Cadifor  opp number 4       W         E0042367   \n",
       "378256                    NaN     Car Park        N         E0054426   \n",
       "378258                    NaN           NaN       N         E0054418   \n",
       "378259                    NaN           NaN      SW         E0054418   \n",
       "378263                    NaN           O/S       N         E0054426   \n",
       "\n",
       "        LocalityName  LocalityCentre GridType  ...   Latitude  StopType  \\\n",
       "32799        Penketh            True      NaN  ...  53.387517       BCT   \n",
       "32800         Orford            True      NaN  ...  53.407577       BCE   \n",
       "32801      Birchwood            True      NaN  ...  53.427001       BCT   \n",
       "32808   Great Sankey            True      NaN  ...  53.413731       BCT   \n",
       "32809   Great Sankey            True      NaN  ...  53.407256       BCT   \n",
       "...              ...             ...      ...  ...        ...       ...   \n",
       "376941        Penlan            True      NaN  ...  51.654729       BCT   \n",
       "378256        Margam            True      NaN  ...  51.556526       BCT   \n",
       "378258    Coedffranc            True      NaN  ...  51.655420       BCT   \n",
       "378259    Coedffranc            True      NaN  ...  51.655829       BCT   \n",
       "378263        Margam            True      NaN  ...  51.559561       BCT   \n",
       "\n",
       "        BusStopType  TimingStatus AdministrativeAreaCode     CreationDateTime  \\\n",
       "32799           MKD           OTH                     63  2019-04-08T11:27:29   \n",
       "32800           NaN           NaN                     63  2019-04-08T11:40:53   \n",
       "32801           MKD           OTH                     63  2019-11-26T13:44:15   \n",
       "32808           MKD           OTH                     63  2020-03-20T10:35:45   \n",
       "32809           MKD           OTH                     63  2020-03-20T10:57:12   \n",
       "...             ...           ...                    ...                  ...   \n",
       "376941          MKD           OTH                     56  2024-11-04T11:13:59   \n",
       "378256          CUS           PPT                     34  2024-05-02T11:32:53   \n",
       "378258          MKD           OTH                     34  2024-05-02T14:26:07   \n",
       "378259          MKD           OTH                     34  2024-05-02T14:32:31   \n",
       "378263          CUS           OTH                     34  2024-05-03T10:50:34   \n",
       "\n",
       "       ModificationDateTime  RevisionNumber Modification  Status  \n",
       "32799   2019-04-08T11:19:38             NaN          new  active  \n",
       "32800   2019-04-08T11:33:38             NaN          new  active  \n",
       "32801   2019-11-26T13:39:23             NaN          new  active  \n",
       "32808   2020-03-20T10:32:29             NaN          new  active  \n",
       "32809   2020-03-20T10:50:39             NaN          new  active  \n",
       "...                     ...             ...          ...     ...  \n",
       "376941  2024-11-04T11:11:45             NaN          new  active  \n",
       "378256  2024-05-02T11:13:56             NaN          new  active  \n",
       "378258  2024-05-02T14:23:59             NaN          new  active  \n",
       "378259  2024-05-02T14:31:16             NaN          new  active  \n",
       "378263  2024-05-03T10:47:22             NaN          new  active  \n",
       "\n",
       "[5513 rows x 23 columns]"
      ]
     },
     "execution_count": 118,
     "metadata": {},
     "output_type": "execute_result"
    }
   ],
   "source": [
    "missing_revision_rows = stops_data[stops_data['RevisionNumber'].isnull()]\n",
    "print(f\"Number of rows with missing RevisionNumber: {len(missing_revision_rows)}\")\n",
    "missing_revision_rows"
   ]
  },
  {
   "cell_type": "markdown",
   "id": "24690889-c09d-45ba-8805-f9a2c9b69f19",
   "metadata": {},
   "source": [
    "I can see from the sample above, that when \"RevisionNumber\" is NaN, then the \"Modification\" value is 'new'. I want to check if this is coincidental or not. If it is not coincidental, then this means that \"RevisionNumber\" should be set to zero. This would confirm whether new modifications are considered to be a revised or not yet revised. Also, keeping in mind that \"Modification\" has some missing values as well.\n",
    "\n",
    "**2nd Iteration**\n",
    "I just realised that the where the \"RevisionNumber\" is NaN, the \"CreationDateTime\" and \"ModificationDateTime\" are the same days of the year, given that the \"RevisionNumber\" > 0."
   ]
  },
  {
   "cell_type": "code",
   "execution_count": 119,
   "id": "32d925d1-2bc6-437d-80c4-016d50309edf",
   "metadata": {},
   "outputs": [
    {
     "name": "stdout",
     "output_type": "stream",
     "text": [
      "Not all rows with missing RevisionNumber have 'Modification' to 'new'.\n",
      "Percentage of rows with missing RevisionNumber and Modification set to 'new' (excluding NaN): 9.595501541810266%\n"
     ]
    }
   ],
   "source": [
    "# Checking if all missing RevisionNumber rows have Modification values equal to 'new', then if find the percentage if not\n",
    "valid_rows = missing_revision_rows['Modification'].notna()\n",
    "total_valid_rows = valid_rows.sum()\n",
    "all_new_modifications = missing_revision_rows.loc[valid_rows, 'Modification'].eq('new').all()\n",
    "new_modification_count = missing_revision_rows.loc[valid_rows, 'Modification'].eq('new').sum()\n",
    "\n",
    "if all_new_modifications:\n",
    "    print(\"All rows with missing RevisionNumber have 'Modification' equal to 'new'.\")\n",
    "else:\n",
    "    print(\"Not all rows with missing RevisionNumber have 'Modification' to 'new'.\")\n",
    "\n",
    "# Calculating the percentage\n",
    "new_percentage = (new_modification_count / total_valid_rows) * 100\n",
    "\n",
    "print(f\"Percentage of rows with missing RevisionNumber and Modification set to 'new' (excluding NaN): {new_percentage}%\")          "
   ]
  },
  {
   "cell_type": "markdown",
   "id": "fbbf5d67-c758-4bb3-a5c9-9f6456c2bd81",
   "metadata": {},
   "source": [
    "This result shows that this was a coincidence and missing RevisionNumbers do not all have \"Modification\" values equal to 'new'. I need to do a missing value analysis and decide what to do with those columns, in regards to the new research questions below."
   ]
  },
  {
   "cell_type": "markdown",
   "id": "cbbd47d5-2da0-4164-85c4-36728172f841",
   "metadata": {},
   "source": [
    "#### **\"2nd Iteration** - Missing value analysis"
   ]
  },
  {
   "cell_type": "code",
   "execution_count": 120,
   "id": "a186d491-7a6e-4c6c-8fae-a6d3f9fd8d22",
   "metadata": {},
   "outputs": [
    {
     "name": "stdout",
     "output_type": "stream",
     "text": [
      "Missing Value Analysis:\n",
      "Street            6.239290\n",
      "Indicator         6.027895\n",
      "Bearing           5.648976\n",
      "NaptanCode        5.080870\n",
      "BusStopType       4.397608\n",
      "Modification      4.269839\n",
      "TimingStatus      3.777408\n",
      "RevisionNumber    1.511566\n",
      "GridType          0.514366\n",
      "dtype: float64\n"
     ]
    },
    {
     "data": {
      "image/png": "[encoded data removed]",
      "text/plain": [
       "<Figure size 1000x600 with 1 Axes>"
      ]
     },
     "metadata": {},
     "output_type": "display_data"
    },
    {
     "data": {
      "image/png": "[encoded data removed]",
      "text/plain": [
       "<Figure size 1000x600 with 2 Axes>"
      ]
     },
     "metadata": {},
     "output_type": "display_data"
    },
    {
     "name": "stdout",
     "output_type": "stream",
     "text": [
      "                  Street  Indicator   Bearing  NaptanCode  BusStopType  \\\n",
      "Street          1.000000   0.021304  0.147627    0.123257     0.081452   \n",
      "Indicator       0.021304   1.000000  0.298404    0.295546     0.285089   \n",
      "Bearing         0.147627   0.298404  1.000000    0.641451     0.876521   \n",
      "NaptanCode      0.123257   0.295546  0.641451    1.000000     0.617923   \n",
      "BusStopType     0.081452   0.285089  0.876521    0.617923     1.000000   \n",
      "Modification   -0.054480   0.109361 -0.019838   -0.030213    -0.009447   \n",
      "TimingStatus    0.089690   0.311587  0.809742    0.668234     0.923814   \n",
      "RevisionNumber -0.027684  -0.022785 -0.028951   -0.017816    -0.025255   \n",
      "GridType       -0.001117   0.040891 -0.007467    0.010417    -0.005514   \n",
      "\n",
      "                Modification  TimingStatus  RevisionNumber  GridType  \n",
      "Street             -0.054480      0.089690       -0.027684 -0.001117  \n",
      "Indicator           0.109361      0.311587       -0.022785  0.040891  \n",
      "Bearing            -0.019838      0.809742       -0.028951 -0.007467  \n",
      "NaptanCode         -0.030213      0.668234       -0.017816  0.010417  \n",
      "BusStopType        -0.009447      0.923814       -0.025255 -0.005514  \n",
      "Modification        1.000000     -0.003290       -0.026164 -0.015186  \n",
      "TimingStatus       -0.003290      1.000000       -0.024428 -0.009623  \n",
      "RevisionNumber     -0.026164     -0.024428        1.000000  0.122401  \n",
      "GridType           -0.015186     -0.009623        0.122401  1.000000  \n"
     ]
    }
   ],
   "source": [
    "# Calculating the percentage of missing values\n",
    "missing_values = stops_data.isnull().mean() * 100\n",
    "missing_values = missing_values[missing_values > 0].sort_values(ascending = False)\n",
    "\n",
    "# Displaying missing value percentages\n",
    "print(\"Missing Value Analysis:\")\n",
    "print(missing_values)\n",
    "\n",
    "# Visualising the missing values\n",
    "plt.figure(figsize = (10, 6))\n",
    "sns.barplot(x = missing_values.index, y = missing_values.values)\n",
    "plt.xticks(rotation = 45, ha = 'right')\n",
    "plt.ylabel(\"Percentage\")\n",
    "plt.xlabel(\"Features\")\n",
    "plt.show()\n",
    "\n",
    "# Pairwise correlation for features with missing values\n",
    "missing_features = missing_values.index\n",
    "correlation_matrix = stops_data[missing_features].isnull().corr()\n",
    "\n",
    "# Visualising the correlation of columns with missing values\n",
    "plt.figure(figsize = (10, 6))\n",
    "sns.heatmap(correlation_matrix, annot = True, cmap = 'coolwarm', fmt = \".2\", vmin = -1, vmax = 1)\n",
    "plt.title(\"Correlation of missing values between features\")\n",
    "plt.tight_layout()\n",
    "plt.savefig(\"../outputs/missing_values_correlation_heatmap.png\")\n",
    "plt.show()\n",
    "\n",
    "print(correlation_matrix)"
   ]
  },
  {
   "cell_type": "markdown",
   "id": "cef77e7b-1b58-44d5-a1fa-c4eafa324d57",
   "metadata": {},
   "source": [
    "#### Decisions from the Heatmap results\n",
    "Based on findings from: https://www.gov.uk/government/publications/national-public-transport-access-node-schema/naptan-guide-for-data-managers\n",
    "1. Street: An API would be needed for accurate imputation and the values are specific.\n",
    "2. GridType: This is more of a reference to the geographic data or features, therefore, this will be dropped.\n",
    "3. NaPTANCode: This is an unique identifier for tracking stops. The missing values cannot be filled with imputation or modification. However, every bus stop should have a NaPTAN code. I will removed the rows that do not have this, and see the different.\n",
    "4. BusStopType: KNN may be a good approach, as it is relevant for the first research question below. I will apply **Label Encoding** beforehand, because the categories are not ordinal. **2nd iteration** - I will use Iterative Imputation for this due KNN Imputation leaving some missing values.\n",
    "5. Modification: This is vital for the second research question below, so it has to be kept.\n",
    "6. TimingStatus: **2nd iteration** - I will use Iterative Imputation for this, with the remaining BusStopType missing values. \n",
    "7. RevisionNumber: I think that KNN imputation is not acceptable because correlations are low. I will put zero as a replacement to be safe, assuming that no revision has been done.\n",
    "8. Bearing: This is the direction that the vehicle would be facing at the bus stop. I will remove this column because it does not relate to the research questions\n",
    "9. Indicator: This is another one which is not needed. So I will drop this."
   ]
  },
  {
   "cell_type": "code",
   "execution_count": 121,
   "id": "5362f6ec-7b84-4a90-8496-12ab09adc510",
   "metadata": {},
   "outputs": [
    {
     "name": "stdout",
     "output_type": "stream",
     "text": [
      "Number of rows dropped due to missing NaPTANCode: 18531\n",
      "Missing Values After Processing:\n",
      "ATCOCode                  0.000000\n",
      "NaptanCode                0.000000\n",
      "CommonName                0.000000\n",
      "Street                    5.549554\n",
      "Indicator                 4.400474\n",
      "Bearing                   2.222768\n",
      "NptgLocalityCode          0.000000\n",
      "LocalityName              0.000000\n",
      "LocalityCentre            0.000000\n",
      "GridType                  0.497126\n",
      "Easting                   0.000000\n",
      "Northing                  0.000000\n",
      "Longitude                 0.000000\n",
      "Latitude                  0.000000\n",
      "StopType                  0.000000\n",
      "BusStopType               1.466247\n",
      "TimingStatus              0.829891\n",
      "AdministrativeAreaCode    0.000000\n",
      "CreationDateTime          0.000000\n",
      "ModificationDateTime      0.000000\n",
      "RevisionNumber            0.000000\n",
      "Modification              4.411162\n",
      "Status                    0.000000\n",
      "dtype: float64\n"
     ]
    }
   ],
   "source": [
    "# Storing the original number of rows\n",
    "original_rows = stops_data.shape[0]\n",
    "\n",
    "# Drop the rows with the missing NaPTAN Codes, as every bus stop should have it\n",
    "stops_data = stops_data.dropna(subset = ['NaptanCode'])\n",
    "\n",
    "# Label encoding for BusStopType to do KNN Imputation\n",
    "label_encoder = LabelEncoder()\n",
    "stops_data['BusStopType_encoded'] = label_encoder.fit_transform(stops_data['BusStopType'])\n",
    "\n",
    "# Imputing missing BusStopType with KNN, due to high correlations results with BusStopType and other feature missing values\n",
    "# 5 Nearest Neighbours will be used to be on the safe side.\n",
    "knn_imputer = KNNImputer(n_neighbors = 5)\n",
    "stops_data['BusStopType_encoded'] = knn_imputer.fit_transform(stops_data[['BusStopType_encoded']])\n",
    "\n",
    "# Converting the imputed values to integer data types before inverse transformation\n",
    "stops_data['BusStopType_encoded'] = stops_data['BusStopType_encoded'].astype(int)\n",
    "\n",
    "# Mapping the encoded values back to the original categories\n",
    "stops_data['BusStopType'] = label_encoder.inverse_transform(stops_data['BusStopType_encoded'])\n",
    "\n",
    "# Dropping the encoded column\n",
    "stops_data = stops_data.drop(columns = ['BusStopType_encoded'])\n",
    "\n",
    "# Replacing missing RevisionNumber with zero\n",
    "stops_data['RevisionNumber'] = stops_data['RevisionNumber'].fillna(0)\n",
    "\n",
    "# Calculating and displaying the number of rows dropped\n",
    "dropped_rows = original_rows - stops_data.shape[0]\n",
    "print(f\"Number of rows dropped due to missing NaPTANCode: {dropped_rows}\")\n",
    "\n",
    "# Checking the results after processing\n",
    "missing_values_after = stops_data.isnull().mean() * 100\n",
    "print(\"Missing Values After Processing:\")\n",
    "print(missing_values_after)"
   ]
  },
  {
   "cell_type": "markdown",
   "id": "2abf6545-3a92-4e58-b8e9-360d090b2009",
   "metadata": {},
   "source": [
    "Some of the \"BusStopType\" were not imputed, which could be because of the number of features or lack of relationships found. I will use a more sophisticated method, such as Iterative Imputation, but also include the \"TimingStatus\" column."
   ]
  },
  {
   "cell_type": "code",
   "execution_count": 122,
   "id": "902b6228-b965-4d4a-9fe2-338cc2e1dfc6",
   "metadata": {},
   "outputs": [
    {
     "name": "stdout",
     "output_type": "stream",
     "text": [
      "Missing Values After Processing:\n",
      "ATCOCode                  0.000000\n",
      "NaptanCode                0.000000\n",
      "CommonName                0.000000\n",
      "Street                    5.549554\n",
      "Indicator                 4.400474\n",
      "Bearing                   2.222768\n",
      "NptgLocalityCode          0.000000\n",
      "LocalityName              0.000000\n",
      "LocalityCentre            0.000000\n",
      "GridType                  0.497126\n",
      "Easting                   0.000000\n",
      "Northing                  0.000000\n",
      "Longitude                 0.000000\n",
      "Latitude                  0.000000\n",
      "StopType                  0.000000\n",
      "BusStopType               0.000000\n",
      "TimingStatus              0.000000\n",
      "AdministrativeAreaCode    0.000000\n",
      "CreationDateTime          0.000000\n",
      "ModificationDateTime      0.000000\n",
      "RevisionNumber            0.000000\n",
      "Modification              4.411162\n",
      "Status                    0.000000\n",
      "dtype: float64\n"
     ]
    }
   ],
   "source": [
    "# Imputing the missing values in categorical columns using SimpleImputer\n",
    "simple_imputer = SimpleImputer(strategy = 'most_frequent')  # Imputing with the most frequent category\n",
    "stops_data[['BusStopType', 'TimingStatus']] = simple_imputer.fit_transform(stops_data[['BusStopType', 'TimingStatus']])\n",
    "\n",
    "# Label encoding the categorical columns after imputation\n",
    "label_encoder = LabelEncoder()\n",
    "stops_data['BusStopType_encoded'] = label_encoder.fit_transform(stops_data['BusStopType'])\n",
    "stops_data['TimingStatus_encoded'] = label_encoder.fit_transform(stops_data['TimingStatus'])\n",
    "\n",
    "# Applying IterativeImputer to the numerical columns.\n",
    "iterative_imputer = IterativeImputer(max_iter = 10, random_state = 1)\n",
    "# Applying IterativeImputer only to the numerical columns.\n",
    "stops_data[['BusStopType_encoded', 'TimingStatus_encoded']] = iterative_imputer.fit_transform(stops_data[['BusStopType_encoded', 'TimingStatus_encoded']])\n",
    "\n",
    "# Converting the imputed float values to integers before inverse transformation\n",
    "stops_data['BusStopType_encoded'] = stops_data['BusStopType_encoded'].round().astype(int)\n",
    "stops_data['TimingStatus_encoded'] = stops_data['TimingStatus_encoded'].round().astype(int)\n",
    "\n",
    "# Inverse transforming the encoded values back to the original categories\n",
    "stops_data['BusStopType'] = label_encoder.inverse_transform(stops_data['BusStopType_encoded'])\n",
    "stops_data['TimingStatus'] = label_encoder.inverse_transform(stops_data['TimingStatus_encoded'])\n",
    "\n",
    "# Dropping the temporary encoded columns\n",
    "stops_data = stops_data.drop(columns = ['BusStopType_encoded', 'TimingStatus_encoded'])\n",
    "\n",
    "# Checking for missing values after processing\n",
    "missing_values_after_2 = stops_data.isnull().mean() * 100\n",
    "print(\"Missing Values After Processing:\")\n",
    "print(missing_values_after_2)"
   ]
  },
  {
   "cell_type": "markdown",
   "id": "3fea222c-dd4e-4f14-aade-345b9fbc4b7e",
   "metadata": {},
   "source": [
    "- The Iterative Imputation was successful for \"BusStopType\" and \"TimingStatus\"\n",
    "- Dropping \"Street\", \"GridType\", \"Bearing\" and \"Indicator\" columns due to their relevance to my research questions.\n",
    "- This should leave me with just \"Modification\" missing values"
   ]
  },
  {
   "cell_type": "code",
   "execution_count": 123,
   "id": "08e9274e-d771-4297-852f-6f6c22688bfc",
   "metadata": {},
   "outputs": [],
   "source": [
    "# Dropping the columns which are irrelevant\n",
    "stops_data = stops_data.drop(columns = ['Street', 'GridType', 'Bearing', 'Indicator'])"
   ]
  },
  {
   "cell_type": "code",
   "execution_count": 124,
   "id": "2cfa94ac-2ca6-4be1-8fad-8ae2b0664f8c",
   "metadata": {},
   "outputs": [
    {
     "name": "stdout",
     "output_type": "stream",
     "text": [
      "Missing Values After Processing:\n",
      "ATCOCode                  0.000000\n",
      "NaptanCode                0.000000\n",
      "CommonName                0.000000\n",
      "NptgLocalityCode          0.000000\n",
      "LocalityName              0.000000\n",
      "LocalityCentre            0.000000\n",
      "Easting                   0.000000\n",
      "Northing                  0.000000\n",
      "Longitude                 0.000000\n",
      "Latitude                  0.000000\n",
      "StopType                  0.000000\n",
      "BusStopType               0.000000\n",
      "TimingStatus              0.000000\n",
      "AdministrativeAreaCode    0.000000\n",
      "CreationDateTime          0.000000\n",
      "ModificationDateTime      0.000000\n",
      "RevisionNumber            0.000000\n",
      "Modification              4.411162\n",
      "Status                    0.000000\n",
      "dtype: float64\n"
     ]
    }
   ],
   "source": [
    "# Checking the results after processing\n",
    "missing_values_after = stops_data.isnull().mean() * 100\n",
    "print(\"Missing Values After Processing:\")\n",
    "print(missing_values_after)"
   ]
  },
  {
   "cell_type": "markdown",
   "id": "5527be51-dcd2-4c38-921c-045b7bacb768",
   "metadata": {},
   "source": [
    "- I am going to drop the Modification rows so that I can begin the visual analytics stage after this."
   ]
  },
  {
   "cell_type": "code",
   "execution_count": 125,
   "id": "29536279-e381-413c-a71b-847a5cb90149",
   "metadata": {},
   "outputs": [
    {
     "name": "stdout",
     "output_type": "stream",
     "text": [
      "Number of rows dropped due to missing Modification values: 15271\n"
     ]
    }
   ],
   "source": [
    "# Storing the original number of rows\n",
    "original_rows = stops_data.shape[0]\n",
    "\n",
    "# Drop the rows with the missing Modification, as every bus stop should have it\n",
    "stops_data = stops_data.dropna(subset = ['Modification'])\n",
    "\n",
    "# Calculating and displaying the number of rows dropped\n",
    "dropped_rows = original_rows - stops_data.shape[0]\n",
    "print(f\"Number of rows dropped due to missing Modification values: {dropped_rows}\")"
   ]
  },
  {
   "cell_type": "code",
   "execution_count": 126,
   "id": "e4ef4d6f-ebf1-4eff-ba55-1e38aa7b5010",
   "metadata": {},
   "outputs": [
    {
     "name": "stdout",
     "output_type": "stream",
     "text": [
      "Missing Values After Processing:\n",
      "ATCOCode                  0.0\n",
      "NaptanCode                0.0\n",
      "CommonName                0.0\n",
      "NptgLocalityCode          0.0\n",
      "LocalityName              0.0\n",
      "LocalityCentre            0.0\n",
      "Easting                   0.0\n",
      "Northing                  0.0\n",
      "Longitude                 0.0\n",
      "Latitude                  0.0\n",
      "StopType                  0.0\n",
      "BusStopType               0.0\n",
      "TimingStatus              0.0\n",
      "AdministrativeAreaCode    0.0\n",
      "CreationDateTime          0.0\n",
      "ModificationDateTime      0.0\n",
      "RevisionNumber            0.0\n",
      "Modification              0.0\n",
      "Status                    0.0\n",
      "dtype: float64\n"
     ]
    }
   ],
   "source": [
    "# Checking the results after processing\n",
    "missing_values_after = stops_data.isnull().mean() * 100\n",
    "print(\"Missing Values After Processing:\")\n",
    "print(missing_values_after)"
   ]
  },
  {
   "cell_type": "markdown",
   "id": "e0567c7b-cd69-49be-9004-fee27a5e555e",
   "metadata": {},
   "source": [
    "- In total so far, **51,737 rows** and **27 columns** have been removed from the dataset. "
   ]
  },
  {
   "cell_type": "markdown",
   "id": "e3f65eb1-5e5a-43be-a146-0ea81c888c36",
   "metadata": {},
   "source": [
    "### 2nd Iteration Research Questions:\n",
    "\n",
    "1. How is the distribution of Stop Types and Bus Stop Types differentiated between rural and urban area and how do they influence the accessibility of public transport? [THIS HAS BEEN LEFT OUT/ DID NOT GO WELL]\n",
    "2. What can be visualised about the frequency and timing of maintenance activities, as indicated by Date/Time of modifications, revision numbers and modification across different localities?\n",
    "3. How do bus stop densities and types vary across Admin area codes and how do these variations be visualised to identify region that are not been being served as much?\n",
    "4. What disparities exist between LocalityName, LocalityCentre, and their associated characteristics when visualised interactively?"
   ]
  },
  {
   "cell_type": "markdown",
   "id": "5a7fdc95-bfde-4322-87ae-8fce9af08a33",
   "metadata": {},
   "source": [
    "### 3rd Iteration Research Questions:\n",
    "1. What can be visualised about the frequency and timing of maintenance activities, as indicated by Date/Time of modifications, revision numbers and modification across different localities?\n",
    "2. How do bus stop densities and types vary across Admin area codes and how do these variations be visualised to identify region that are not been being served as much?\n",
    "3. What disparities exist between LocalityName, LocalityCentre, and their associated characteristics when visualised interactively?"
   ]
  },
  {
   "cell_type": "markdown",
   "id": "d29a485a-06f2-49fa-9688-94573b8461f8",
   "metadata": {},
   "source": [
    "### b. Columns and Data Types:\n",
    "- There are **19 features** remaining for analysis\n",
    "- The \"LocalityCentre\" column was converted to a bool, but there are many other features that need to be changed ton"
   ]
  },
  {
   "cell_type": "markdown",
   "id": "372d7a7e-d6b9-4676-81da-4d3bee9925dc",
   "metadata": {},
   "source": [
    "1. Convert the following object types to category types to minimise the amount of memory being used: \"ATCOCode\", \"NaptanCode\", \"CommonName\", \"StopType\", \"BusStopType\", \"Modification\", and \"Status\".\n",
    "   - This is because the dataset is very large and will aid the project in terms of performance.\n",
    "2. \"CreationDateTime\" and \"ModificationDateTime\" is being coverted to datetime64[ns, UTC] for the sake of time based analyses."
   ]
  },
  {
   "cell_type": "code",
   "execution_count": 127,
   "id": "62782784-eee4-4fc4-b545-c5d62b94aefd",
   "metadata": {},
   "outputs": [],
   "source": [
    "# Converting categorical 'object' types to 'categorical' types\n",
    "categorical_columns = ['ATCOCode', 'NaptanCode', 'CommonName', \n",
    "                       'StopType', 'BusStopType', 'Modification', 'Status']\n",
    "stops_data[categorical_columns] = stops_data[categorical_columns].astype('category')\n",
    "\n",
    "# Converting datetime columns\n",
    "stops_data['CreationDateTime'] = pd.to_datetime(stops_data['CreationDateTime'], utc = True)\n",
    "stops_data['ModificationDateTime'] = pd.to_datetime(stops_data['ModificationDateTime'], utc = True)"
   ]
  },
  {
   "cell_type": "markdown",
   "id": "fd4c934b-7c8c-4ec3-bc86-065c9b61d826",
   "metadata": {},
   "source": [
    "3. Convert object types of \"NptgLocalityCode\" and \"LocalityName\" to category types. And change \"TimingStatus\" to a category type as well.\n",
    "4. \"RevisionNumber\" will be converted from float64 to int64 as they are counts."
   ]
  },
  {
   "cell_type": "code",
   "execution_count": 128,
   "id": "8ade2d2a-e906-4b58-a785-0b76c71569db",
   "metadata": {},
   "outputs": [],
   "source": [
    "# Converting object types of \"NptgLocalityCode\" and \"LocalityName\" to category types. And change \"TimingStatus\" to a category type as well.\n",
    "stops_data['NptgLocalityCode'] = stops_data['NptgLocalityCode'].astype('category')\n",
    "stops_data['LocalityName'] = stops_data['LocalityName'].astype('category')\n",
    "\n",
    "# Converting TimingStatus to a category type as well\n",
    "stops_data['TimingStatus'] = stops_data['TimingStatus'].astype('category')\n",
    "\n",
    "# Converting RevisionNumber to integer types\n",
    "stops_data['RevisionNumber'] = stops_data['RevisionNumber'].astype(int)"
   ]
  },
  {
   "cell_type": "code",
   "execution_count": 129,
   "id": "c91861fc-a607-4d5b-953a-37ddc0515e9e",
   "metadata": {},
   "outputs": [
    {
     "name": "stdout",
     "output_type": "stream",
     "text": [
      "ATCOCode                             category\n",
      "NaptanCode                           category\n",
      "CommonName                           category\n",
      "NptgLocalityCode                     category\n",
      "LocalityName                         category\n",
      "LocalityCentre                           bool\n",
      "Easting                                 int64\n",
      "Northing                                int64\n",
      "Longitude                             float64\n",
      "Latitude                              float64\n",
      "StopType                             category\n",
      "BusStopType                          category\n",
      "TimingStatus                         category\n",
      "AdministrativeAreaCode                  int64\n",
      "CreationDateTime          datetime64[ns, UTC]\n",
      "ModificationDateTime      datetime64[ns, UTC]\n",
      "RevisionNumber                          int32\n",
      "Modification                         category\n",
      "Status                               category\n",
      "dtype: object\n"
     ]
    }
   ],
   "source": [
    "print(stops_data.dtypes)"
   ]
  },
  {
   "cell_type": "markdown",
   "id": "eeafd0fe-f21a-4582-a0ba-78f3b94144f2",
   "metadata": {},
   "source": [
    "## **3rd Iteration of Preprocessing**\n",
    "### **Filter** - Removing StopType classes except ['BCT', 'BCS', 'BCE', 'BCQ', 'BST'], leaving only the Bus StopTypes.\n",
    "- I made a mistake and assumed that all of the NaPTAN stops are bus stops, but they include Ferry Stops, Airport Entrances Tram, Metro interchanges etc.\n",
    "- I needed to come back to this stage, because the K-Means Clustering, Locality Groupings, and the other preprocessing pipelines will be affected by this."
   ]
  },
  {
   "cell_type": "code",
   "execution_count": 130,
   "id": "4e5fba35-c5aa-46d5-89a7-d91daa28351b",
   "metadata": {},
   "outputs": [
    {
     "name": "stdout",
     "output_type": "stream",
     "text": [
      "Filtered data shape: (329449, 19)\n",
      "Filtered StopType: ['BCT', 'BCS', 'BCE', 'BCQ', 'BST']\n",
      "Categories (13, object): ['AIR', 'BCE', 'BCQ', 'BCS', ..., 'RSE', 'STR', 'TMU', 'TXR']\n",
      "Number of rows removed: 1470\n"
     ]
    }
   ],
   "source": [
    "# Counting the initial number of rows\n",
    "initial_row_count = stops_data.shape[0]\n",
    "\n",
    "# Filtering out irrelevant StopType categories\n",
    "relevant_stop_types = ['BCT', 'BCS', 'BCE', 'BCQ', 'BST']\n",
    "stops_data = stops_data[stops_data['StopType'].isin(relevant_stop_types)]\n",
    "\n",
    "# Counting the filtered number of rows\n",
    "filtered_row_count = stops_data.shape[0]\n",
    "\n",
    "# Calculating the number of rows removed\n",
    "rows_removed = initial_row_count - filtered_row_count\n",
    "\n",
    "# Verifying the shape and unique StopType categories after filtering\n",
    "print(f\"Filtered data shape: {stops_data.shape}\")\n",
    "print(f\"Filtered StopType: {stops_data['StopType'].unique()}\")\n",
    "print(f\"Number of rows removed: {rows_removed}\")"
   ]
  },
  {
   "cell_type": "code",
   "execution_count": 131,
   "id": "bd61c323-cead-4003-b44f-362a050c8d0f",
   "metadata": {},
   "outputs": [
    {
     "name": "stdout",
     "output_type": "stream",
     "text": [
      "ATCOCode                             category\n",
      "NaptanCode                           category\n",
      "CommonName                           category\n",
      "NptgLocalityCode                     category\n",
      "LocalityName                         category\n",
      "LocalityCentre                           bool\n",
      "Easting                                 int64\n",
      "Northing                                int64\n",
      "Longitude                             float64\n",
      "Latitude                              float64\n",
      "StopType                             category\n",
      "BusStopType                          category\n",
      "TimingStatus                         category\n",
      "AdministrativeAreaCode                  int64\n",
      "CreationDateTime          datetime64[ns, UTC]\n",
      "ModificationDateTime      datetime64[ns, UTC]\n",
      "RevisionNumber                          int32\n",
      "Modification                         category\n",
      "Status                               category\n",
      "dtype: object\n"
     ]
    }
   ],
   "source": [
    "print(stops_data.dtypes)"
   ]
  },
  {
   "cell_type": "markdown",
   "id": "c49ce587-d54f-4a08-8f46-24f93d597506",
   "metadata": {},
   "source": [
    "- In total so far, **53,207 rows and 27 columns** have been removed from the dataset."
   ]
  },
  {
   "cell_type": "markdown",
   "id": "7f4a08d3-e5ce-4f0a-8e83-d4952814033f",
   "metadata": {},
   "source": [
    "### 4th Iteration of Preprocessing\n",
    "- Scaling down the project so it only involves Greater London, which includes some rural and urban areas.\n",
    "- It is simply too much data for me to handle at once. Therefore I will scale it down considerably for the sake computational memory and power needs."
   ]
  },
  {
   "cell_type": "code",
   "execution_count": 132,
   "id": "ec713e2f-d52c-4d6c-9a6a-aaa18d286701",
   "metadata": {},
   "outputs": [
    {
     "name": "stdout",
     "output_type": "stream",
     "text": [
      "London dataset shape: (20115, 19)\n",
      "Unique StopTypes in London dataset: ['BCS', 'BCT']\n",
      "Categories (13, object): ['AIR', 'BCE', 'BCQ', 'BCS', ..., 'RSE', 'STR', 'TMU', 'TXR']\n",
      "Number of rows removed from original data: 310804\n"
     ]
    }
   ],
   "source": [
    "# Filter stops_data for London (ATCO code starts with '490')\n",
    "london_stops_data = stops_data[stops_data['ATCOCode'].str.startswith('490')]\n",
    "\n",
    "# Verifying the filtered data\n",
    "print(f\"London dataset shape: {london_stops_data.shape}\")\n",
    "print(f\"Unique StopTypes in London dataset: {london_stops_data['StopType'].unique()}\")\n",
    "print(f\"Number of rows removed from original data: {initial_row_count - london_stops_data.shape[0]}\")"
   ]
  },
  {
   "cell_type": "code",
   "execution_count": 133,
   "id": "27b4926b-e42a-4321-b452-88fc31a8c7e2",
   "metadata": {},
   "outputs": [
    {
     "name": "stdout",
     "output_type": "stream",
     "text": [
      "London dataset shape after AdministrativeAreaCode filtering: (18999, 19)\n",
      "Rows removed after AdministrativeAreaCode filtering: 1116\n"
     ]
    }
   ],
   "source": [
    "# Store the shape after the first filtering\n",
    "initial_london_row_count = london_stops_data.shape[0]\n",
    "\n",
    "# Step 2: Filter stops_data for London by AdministrativeAreaCode '82'\n",
    "london_stops_data = london_stops_data[london_stops_data['AdministrativeAreaCode'] == 82]\n",
    "\n",
    "# Verifying the filtered data after AdministrativeAreaCode filtering\n",
    "print(f\"London dataset shape after AdministrativeAreaCode filtering: {london_stops_data.shape}\")\n",
    "print(f\"Rows removed after AdministrativeAreaCode filtering: {initial_london_row_count - london_stops_data.shape[0]}\")"
   ]
  },
  {
   "cell_type": "markdown",
   "id": "08a3416f-5d18-4c33-adac-f7037de8bdea",
   "metadata": {},
   "source": [
    "- In total so far, **365,127 rows and 27 columns** have been removed from the dataset,"
   ]
  },
  {
   "cell_type": "markdown",
   "id": "6a3b441b-e0dd-4795-af6d-ac1fc39ee5ae",
   "metadata": {},
   "source": [
    "### Preprocess for each Research Question"
   ]
  },
  {
   "cell_type": "markdown",
   "id": "12297b11-318f-4b88-9eda-928982a5f5e0",
   "metadata": {},
   "source": [
    "Q1. **Categorisation of Urban and Rural Stops**\n",
    "   - K-Means Clustering is to be used on Longitude and Latitude for the classification of regions (\"rural\" or \"urban\")\n",
    "   - **2nd Iteration** - Stop Density will be used for better accuracy, which is a count aggregation within a small geographic grid using \"Longitude\" and \"Latitude\"\n",
    "   - **3rd Iteration after focusing on London and Milton Keynes** - I used DBSCAN clustering, centroid computation for each cluster, then calculate the distances from cluster centre . It was partially successful but need training as a model. Due to time constraints and the time spent trying different ways to classify rural and urban stops, I think it is better to focus on the remaining research questions."
   ]
  },
  {
   "cell_type": "code",
   "execution_count": 146,
   "id": "3e41ad4f-10ae-4f50-b20c-d250f2bf0a10",
   "metadata": {},
   "outputs": [
    {
     "name": "stdout",
     "output_type": "stream",
     "text": [
      "   Longitude   Latitude  StopDensity\n",
      "0  -7.557259  49.766806            5\n",
      "1  -7.557160  49.766807          252\n",
      "2  -7.557160  49.766808            1\n",
      "3  -7.543425  56.943378            1\n",
      "4  -7.543284  56.943468            1\n",
      "Index(['ATCOCode', 'NaptanCode', 'CommonName', 'NptgLocalityCode',\n",
      "       'LocalityName', 'LocalityCentre', 'Easting', 'Northing', 'Longitude',\n",
      "       'Latitude', 'StopType', 'BusStopType', 'TimingStatus',\n",
      "       'AdministrativeAreaCode', 'CreationDateTime', 'ModificationDateTime',\n",
      "       'RevisionNumber', 'Modification', 'Status', 'SouthNorthCategory',\n",
      "       'StopDensity'],\n",
      "      dtype='object')\n"
     ]
    }
   ],
   "source": [
    "print(stop_density.head())\n",
    "print(stops_data_q1.columns)"
   ]
  },
  {
   "cell_type": "markdown",
   "id": "d0ecf3ba-a1c4-455d-8602-4a5b11ced05f",
   "metadata": {},
   "source": [
    "- I have chosen to go back to the 2nd iteration, but to change urban into South, and rural into North. I cannot explain why the K-means clusters did that, but it created a nice North/South divide. So I am going to change the names and begin analysis in this way. I will have to change the research question again."
   ]
  },
  {
   "cell_type": "code",
   "execution_count": 147,
   "id": "e582b98d-3f91-4a21-9ce3-cceda1dfdd83",
   "metadata": {},
   "outputs": [
    {
     "name": "stdout",
     "output_type": "stream",
     "text": [
      "Q1 processed file saved successfully.\n"
     ]
    }
   ],
   "source": [
    "# Ensure no duplicate columns by dropping any pre-existing StopDensity\n",
    "if 'StopDensity' in stops_data_q1.columns:\n",
    "    stops_data_q1 = stops_data_q1.drop(columns=['StopDensity'], errors='ignore')\n",
    "\n",
    "# Step 2: Merge StopDensity back into the dataset\n",
    "stops_data_q1 = stops_data_q1.merge(stop_density, on=['Longitude', 'Latitude'], how='left')\n",
    "\n",
    "# Check if the correct StopDensity column exists\n",
    "if 'StopDensity' not in stops_data_q1.columns:\n",
    "    stops_data_q1.rename(columns={'StopDensity_y': 'StopDensity'}, inplace=True)\n",
    "\n",
    "# Drop redundant columns if necessary\n",
    "stops_data_q1 = stops_data_q1.drop(columns=[col for col in stops_data_q1.columns if 'StopDensity_' in col], errors='ignore')\n",
    "\n",
    "# Proceed with scaling and clustering\n",
    "scaler = MinMaxScaler()\n",
    "scaled_features = scaler.fit_transform(stops_data_q1[['Longitude', 'Latitude', 'StopDensity']])\n",
    "\n",
    "kmeans = KMeans(n_clusters=2, random_state=1)\n",
    "stops_data_q1['SouthNorthCategory'] = kmeans.fit_predict(scaled_features)\n",
    "\n",
    "# Map clusters to North and South based on Latitude\n",
    "cluster_means = stops_data_q1.groupby('SouthNorthCategory')[['Latitude']].mean()\n",
    "north_cluster = cluster_means['Latitude'].idxmax()  # Cluster with higher latitude = North\n",
    "south_cluster = cluster_means['Latitude'].idxmin()  # Cluster with lower latitude = South\n",
    "\n",
    "stops_data_q1['SouthNorthCategory'] = stops_data_q1['SouthNorthCategory'].map(\n",
    "    {north_cluster: 'North', south_cluster: 'South'}\n",
    ")\n",
    "\n",
    "# Save the processed file\n",
    "stops_data_q1.to_csv('../data/processed/q1_processed_stops.csv', index=False)\n",
    "stops_data_q1.to_parquet('../data/processed/q1_processed_stops.parquet')\n",
    "print(\"Q1 processed file saved successfully.\")\n"
   ]
  },
  {
   "cell_type": "code",
   "execution_count": 236,
   "id": "c64b6b94-c76a-485f-bce6-24267ab77860",
   "metadata": {},
   "outputs": [
    {
     "data": {
      "image/png": "[encoded data removed]",
      "text/plain": [
       "<Figure size 640x480 with 1 Axes>"
      ]
     },
     "metadata": {},
     "output_type": "display_data"
    }
   ],
   "source": [
    "# Calculate stop density (number of stops in small geographic grids)\n",
    "stop_density = stops_data.groupby(['Longitude', 'Latitude']).size().reset_index(name='StopDensity')\n",
    "stops_data = stops_data.merge(stop_density, on=['Longitude', 'Latitude'], how='left')\n",
    "\n",
    "# Scale features for K-Means clustering\n",
    "scaler = MinMaxScaler()\n",
    "scaled_features = scaler.fit_transform(stops_data[['Longitude', 'Latitude', 'StopDensity']])\n",
    "\n",
    "# Apply K-Means clustering\n",
    "kmeans = KMeans(n_clusters=2, random_state=1)\n",
    "stops_data['UrbanRuralCategory'] = kmeans.fit_predict(scaled_features)\n",
    "\n",
    "# Map clusters to urban/rural labels\n",
    "stops_data['UrbanRuralCategory'] = stops_data['UrbanRuralCategory'].map({0: 'Rural', 1: 'Urban'})\n",
    "\n",
    "# Save the processed file\n",
    "stops_data.to_csv('data/processed/q1_processed_stops.csv', index=False)\n",
    "print(\"Q1 processed file with improved categorization saved successfully.\")"
   ]
  },
  {
   "cell_type": "markdown",
   "id": "efa5ffe1-5e73-42b9-8d1c-3b216957cf27",
   "metadata": {},
   "source": [
    "**Q1 : 2nd iteration - Categorisation of Urban and Rural Stops** - FAILED ATTEMPT"
   ]
  },
  {
   "cell_type": "code",
   "execution_count": 58,
   "id": "525bf430-b146-4436-ae46-a5ef9f7aa3b8",
   "metadata": {
    "scrolled": true
   },
   "outputs": [
    {
     "name": "stdout",
     "output_type": "stream",
     "text": [
      "   Cluster  Centroid_Latitude  Centroid_Longitude\n",
      "0        0          51.530586           -0.148479\n",
      "   Cluster  Centroid_Latitude_centroid  Centroid_Longitude_centroid\n",
      "0        0                   51.530586                    -0.148479\n",
      "1        0                   51.530586                    -0.148479\n",
      "2        0                   51.530586                    -0.148479\n",
      "3        0                   51.530586                    -0.148479\n",
      "4        0                   51.530586                    -0.148479\n",
      "Urban    10058\n",
      "Rural    10057\n",
      "Name: UrbanRuralCategory, dtype: int64\n"
     ]
    },
    {
     "ename": "ValueError",
     "evalue": "Duplicate column names found: ['ATCOCode', 'NaptanCode', 'CommonName', 'NptgLocalityCode', 'LocalityName', 'LocalityCentre', 'Easting', 'Northing', 'Longitude', 'Latitude', 'StopType', 'BusStopType', 'TimingStatus', 'AdministrativeAreaCode', 'CreationDateTime', 'ModificationDateTime', 'RevisionNumber', 'Modification', 'Status', 'Cluster', 'UrbanRuralCategory', 'Centroid_Latitude_x', 'Centroid_Longitude_x', 'DistanceToCentroid', 'Centroid_Latitude_y', 'Centroid_Longitude_y', 'Centroid_Latitude_x', 'Centroid_Longitude_x', 'Centroid_Latitude_y', 'Centroid_Longitude_y', 'Centroid_Latitude', 'Centroid_Longitude', 'Centroid_Latitude_centroid', 'Centroid_Longitude_centroid']",
     "output_type": "error",
     "traceback": [
      "\u001b[1;31m---------------------------------------------------------------------------\u001b[0m",
      "\u001b[1;31mValueError\u001b[0m                                Traceback (most recent call last)",
      "Cell \u001b[1;32mIn[58], line 57\u001b[0m\n\u001b[0;32m     55\u001b[0m \u001b[38;5;66;03m# Saving the processed London data with updated clustering\u001b[39;00m\n\u001b[0;32m     56\u001b[0m london_stops_data\u001b[38;5;241m.\u001b[39mto_csv(\u001b[38;5;124m'\u001b[39m\u001b[38;5;124m../data/processed/london_stops_with_clusters.csv\u001b[39m\u001b[38;5;124m'\u001b[39m, index\u001b[38;5;241m=\u001b[39m\u001b[38;5;28;01mFalse\u001b[39;00m)\n\u001b[1;32m---> 57\u001b[0m london_stops_data\u001b[38;5;241m.\u001b[39mto_parquet(\u001b[38;5;124m'\u001b[39m\u001b[38;5;124m../data/processed/london_stops_with_clusters.parquet\u001b[39m\u001b[38;5;124m'\u001b[39m)\n\u001b[0;32m     58\u001b[0m \u001b[38;5;28mprint\u001b[39m(\u001b[38;5;124m\"\u001b[39m\u001b[38;5;124mLondon stops with updated clustering saved successfully.\u001b[39m\u001b[38;5;124m\"\u001b[39m)\n",
      "File \u001b[1;32m~\\anaconda3\\Lib\\site-packages\\pandas\\util\\_decorators.py:211\u001b[0m, in \u001b[0;36mdeprecate_kwarg.<locals>._deprecate_kwarg.<locals>.wrapper\u001b[1;34m(*args, **kwargs)\u001b[0m\n\u001b[0;32m    209\u001b[0m     \u001b[38;5;28;01melse\u001b[39;00m:\n\u001b[0;32m    210\u001b[0m         kwargs[new_arg_name] \u001b[38;5;241m=\u001b[39m new_arg_value\n\u001b[1;32m--> 211\u001b[0m \u001b[38;5;28;01mreturn\u001b[39;00m func(\u001b[38;5;241m*\u001b[39margs, \u001b[38;5;241m*\u001b[39m\u001b[38;5;241m*\u001b[39mkwargs)\n",
      "File \u001b[1;32m~\\anaconda3\\Lib\\site-packages\\pandas\\core\\frame.py:2976\u001b[0m, in \u001b[0;36mDataFrame.to_parquet\u001b[1;34m(self, path, engine, compression, index, partition_cols, storage_options, **kwargs)\u001b[0m\n\u001b[0;32m   2889\u001b[0m \u001b[38;5;250m\u001b[39m\u001b[38;5;124;03m\"\"\"\u001b[39;00m\n\u001b[0;32m   2890\u001b[0m \u001b[38;5;124;03mWrite a DataFrame to the binary parquet format.\u001b[39;00m\n\u001b[0;32m   2891\u001b[0m \n\u001b[1;32m   (...)\u001b[0m\n\u001b[0;32m   2972\u001b[0m \u001b[38;5;124;03m>>> content = f.read()\u001b[39;00m\n\u001b[0;32m   2973\u001b[0m \u001b[38;5;124;03m\"\"\"\u001b[39;00m\n\u001b[0;32m   2974\u001b[0m \u001b[38;5;28;01mfrom\u001b[39;00m \u001b[38;5;21;01mpandas\u001b[39;00m\u001b[38;5;21;01m.\u001b[39;00m\u001b[38;5;21;01mio\u001b[39;00m\u001b[38;5;21;01m.\u001b[39;00m\u001b[38;5;21;01mparquet\u001b[39;00m \u001b[38;5;28;01mimport\u001b[39;00m to_parquet\n\u001b[1;32m-> 2976\u001b[0m \u001b[38;5;28;01mreturn\u001b[39;00m to_parquet(\n\u001b[0;32m   2977\u001b[0m     \u001b[38;5;28mself\u001b[39m,\n\u001b[0;32m   2978\u001b[0m     path,\n\u001b[0;32m   2979\u001b[0m     engine,\n\u001b[0;32m   2980\u001b[0m     compression\u001b[38;5;241m=\u001b[39mcompression,\n\u001b[0;32m   2981\u001b[0m     index\u001b[38;5;241m=\u001b[39mindex,\n\u001b[0;32m   2982\u001b[0m     partition_cols\u001b[38;5;241m=\u001b[39mpartition_cols,\n\u001b[0;32m   2983\u001b[0m     storage_options\u001b[38;5;241m=\u001b[39mstorage_options,\n\u001b[0;32m   2984\u001b[0m     \u001b[38;5;241m*\u001b[39m\u001b[38;5;241m*\u001b[39mkwargs,\n\u001b[0;32m   2985\u001b[0m )\n",
      "File \u001b[1;32m~\\anaconda3\\Lib\\site-packages\\pandas\\io\\parquet.py:430\u001b[0m, in \u001b[0;36mto_parquet\u001b[1;34m(df, path, engine, compression, index, storage_options, partition_cols, **kwargs)\u001b[0m\n\u001b[0;32m    426\u001b[0m impl \u001b[38;5;241m=\u001b[39m get_engine(engine)\n\u001b[0;32m    428\u001b[0m path_or_buf: FilePath \u001b[38;5;241m|\u001b[39m WriteBuffer[\u001b[38;5;28mbytes\u001b[39m] \u001b[38;5;241m=\u001b[39m io\u001b[38;5;241m.\u001b[39mBytesIO() \u001b[38;5;28;01mif\u001b[39;00m path \u001b[38;5;129;01mis\u001b[39;00m \u001b[38;5;28;01mNone\u001b[39;00m \u001b[38;5;28;01melse\u001b[39;00m path\n\u001b[1;32m--> 430\u001b[0m impl\u001b[38;5;241m.\u001b[39mwrite(\n\u001b[0;32m    431\u001b[0m     df,\n\u001b[0;32m    432\u001b[0m     path_or_buf,\n\u001b[0;32m    433\u001b[0m     compression\u001b[38;5;241m=\u001b[39mcompression,\n\u001b[0;32m    434\u001b[0m     index\u001b[38;5;241m=\u001b[39mindex,\n\u001b[0;32m    435\u001b[0m     partition_cols\u001b[38;5;241m=\u001b[39mpartition_cols,\n\u001b[0;32m    436\u001b[0m     storage_options\u001b[38;5;241m=\u001b[39mstorage_options,\n\u001b[0;32m    437\u001b[0m     \u001b[38;5;241m*\u001b[39m\u001b[38;5;241m*\u001b[39mkwargs,\n\u001b[0;32m    438\u001b[0m )\n\u001b[0;32m    440\u001b[0m \u001b[38;5;28;01mif\u001b[39;00m path \u001b[38;5;129;01mis\u001b[39;00m \u001b[38;5;28;01mNone\u001b[39;00m:\n\u001b[0;32m    441\u001b[0m     \u001b[38;5;28;01massert\u001b[39;00m \u001b[38;5;28misinstance\u001b[39m(path_or_buf, io\u001b[38;5;241m.\u001b[39mBytesIO)\n",
      "File \u001b[1;32m~\\anaconda3\\Lib\\site-packages\\pandas\\io\\parquet.py:174\u001b[0m, in \u001b[0;36mPyArrowImpl.write\u001b[1;34m(self, df, path, compression, index, storage_options, partition_cols, **kwargs)\u001b[0m\n\u001b[0;32m    171\u001b[0m \u001b[38;5;28;01mif\u001b[39;00m index \u001b[38;5;129;01mis\u001b[39;00m \u001b[38;5;129;01mnot\u001b[39;00m \u001b[38;5;28;01mNone\u001b[39;00m:\n\u001b[0;32m    172\u001b[0m     from_pandas_kwargs[\u001b[38;5;124m\"\u001b[39m\u001b[38;5;124mpreserve_index\u001b[39m\u001b[38;5;124m\"\u001b[39m] \u001b[38;5;241m=\u001b[39m index\n\u001b[1;32m--> 174\u001b[0m table \u001b[38;5;241m=\u001b[39m \u001b[38;5;28mself\u001b[39m\u001b[38;5;241m.\u001b[39mapi\u001b[38;5;241m.\u001b[39mTable\u001b[38;5;241m.\u001b[39mfrom_pandas(df, \u001b[38;5;241m*\u001b[39m\u001b[38;5;241m*\u001b[39mfrom_pandas_kwargs)\n\u001b[0;32m    176\u001b[0m path_or_handle, handles, kwargs[\u001b[38;5;124m\"\u001b[39m\u001b[38;5;124mfilesystem\u001b[39m\u001b[38;5;124m\"\u001b[39m] \u001b[38;5;241m=\u001b[39m _get_path_or_handle(\n\u001b[0;32m    177\u001b[0m     path,\n\u001b[0;32m    178\u001b[0m     kwargs\u001b[38;5;241m.\u001b[39mpop(\u001b[38;5;124m\"\u001b[39m\u001b[38;5;124mfilesystem\u001b[39m\u001b[38;5;124m\"\u001b[39m, \u001b[38;5;28;01mNone\u001b[39;00m),\n\u001b[1;32m   (...)\u001b[0m\n\u001b[0;32m    181\u001b[0m     is_dir\u001b[38;5;241m=\u001b[39mpartition_cols \u001b[38;5;129;01mis\u001b[39;00m \u001b[38;5;129;01mnot\u001b[39;00m \u001b[38;5;28;01mNone\u001b[39;00m,\n\u001b[0;32m    182\u001b[0m )\n\u001b[0;32m    183\u001b[0m \u001b[38;5;28;01mif\u001b[39;00m (\n\u001b[0;32m    184\u001b[0m     \u001b[38;5;28misinstance\u001b[39m(path_or_handle, io\u001b[38;5;241m.\u001b[39mBufferedWriter)\n\u001b[0;32m    185\u001b[0m     \u001b[38;5;129;01mand\u001b[39;00m \u001b[38;5;28mhasattr\u001b[39m(path_or_handle, \u001b[38;5;124m\"\u001b[39m\u001b[38;5;124mname\u001b[39m\u001b[38;5;124m\"\u001b[39m)\n\u001b[0;32m    186\u001b[0m     \u001b[38;5;129;01mand\u001b[39;00m \u001b[38;5;28misinstance\u001b[39m(path_or_handle\u001b[38;5;241m.\u001b[39mname, (\u001b[38;5;28mstr\u001b[39m, \u001b[38;5;28mbytes\u001b[39m))\n\u001b[0;32m    187\u001b[0m ):\n",
      "File \u001b[1;32m~\\anaconda3\\Lib\\site-packages\\pyarrow\\table.pxi:4751\u001b[0m, in \u001b[0;36mpyarrow.lib.Table.from_pandas\u001b[1;34m()\u001b[0m\n",
      "File \u001b[1;32m~\\anaconda3\\Lib\\site-packages\\pyarrow\\pandas_compat.py:581\u001b[0m, in \u001b[0;36mdataframe_to_arrays\u001b[1;34m(df, schema, preserve_index, nthreads, columns, safe)\u001b[0m\n\u001b[0;32m    573\u001b[0m \u001b[38;5;28;01mdef\u001b[39;00m \u001b[38;5;21mdataframe_to_arrays\u001b[39m(df, schema, preserve_index, nthreads\u001b[38;5;241m=\u001b[39m\u001b[38;5;241m1\u001b[39m, columns\u001b[38;5;241m=\u001b[39m\u001b[38;5;28;01mNone\u001b[39;00m,\n\u001b[0;32m    574\u001b[0m                         safe\u001b[38;5;241m=\u001b[39m\u001b[38;5;28;01mTrue\u001b[39;00m):\n\u001b[0;32m    575\u001b[0m     (all_names,\n\u001b[0;32m    576\u001b[0m      column_names,\n\u001b[0;32m    577\u001b[0m      index_column_names,\n\u001b[0;32m    578\u001b[0m      index_descriptors,\n\u001b[0;32m    579\u001b[0m      index_columns,\n\u001b[0;32m    580\u001b[0m      columns_to_convert,\n\u001b[1;32m--> 581\u001b[0m      convert_fields) \u001b[38;5;241m=\u001b[39m _get_columns_to_convert(df, schema, preserve_index,\n\u001b[0;32m    582\u001b[0m                                                columns)\n\u001b[0;32m    584\u001b[0m     \u001b[38;5;66;03m# NOTE(wesm): If nthreads=None, then we use a heuristic to decide whether\u001b[39;00m\n\u001b[0;32m    585\u001b[0m     \u001b[38;5;66;03m# using a thread pool is worth it. Currently the heuristic is whether the\u001b[39;00m\n\u001b[0;32m    586\u001b[0m     \u001b[38;5;66;03m# nrows > 100 * ncols and ncols > 1.\u001b[39;00m\n\u001b[0;32m    587\u001b[0m     \u001b[38;5;28;01mif\u001b[39;00m nthreads \u001b[38;5;129;01mis\u001b[39;00m \u001b[38;5;28;01mNone\u001b[39;00m:\n",
      "File \u001b[1;32m~\\anaconda3\\Lib\\site-packages\\pyarrow\\pandas_compat.py:363\u001b[0m, in \u001b[0;36m_get_columns_to_convert\u001b[1;34m(df, schema, preserve_index, columns)\u001b[0m\n\u001b[0;32m    360\u001b[0m columns \u001b[38;5;241m=\u001b[39m _resolve_columns_of_interest(df, schema, columns)\n\u001b[0;32m    362\u001b[0m \u001b[38;5;28;01mif\u001b[39;00m \u001b[38;5;129;01mnot\u001b[39;00m df\u001b[38;5;241m.\u001b[39mcolumns\u001b[38;5;241m.\u001b[39mis_unique:\n\u001b[1;32m--> 363\u001b[0m     \u001b[38;5;28;01mraise\u001b[39;00m \u001b[38;5;167;01mValueError\u001b[39;00m(\n\u001b[0;32m    364\u001b[0m         \u001b[38;5;124m'\u001b[39m\u001b[38;5;124mDuplicate column names found: \u001b[39m\u001b[38;5;132;01m{}\u001b[39;00m\u001b[38;5;124m'\u001b[39m\u001b[38;5;241m.\u001b[39mformat(\u001b[38;5;28mlist\u001b[39m(df\u001b[38;5;241m.\u001b[39mcolumns))\n\u001b[0;32m    365\u001b[0m     )\n\u001b[0;32m    367\u001b[0m \u001b[38;5;28;01mif\u001b[39;00m schema \u001b[38;5;129;01mis\u001b[39;00m \u001b[38;5;129;01mnot\u001b[39;00m \u001b[38;5;28;01mNone\u001b[39;00m:\n\u001b[0;32m    368\u001b[0m     \u001b[38;5;28;01mreturn\u001b[39;00m _get_columns_to_convert_given_schema(df, schema, preserve_index)\n",
      "\u001b[1;31mValueError\u001b[0m: Duplicate column names found: ['ATCOCode', 'NaptanCode', 'CommonName', 'NptgLocalityCode', 'LocalityName', 'LocalityCentre', 'Easting', 'Northing', 'Longitude', 'Latitude', 'StopType', 'BusStopType', 'TimingStatus', 'AdministrativeAreaCode', 'CreationDateTime', 'ModificationDateTime', 'RevisionNumber', 'Modification', 'Status', 'Cluster', 'UrbanRuralCategory', 'Centroid_Latitude_x', 'Centroid_Longitude_x', 'DistanceToCentroid', 'Centroid_Latitude_y', 'Centroid_Longitude_y', 'Centroid_Latitude_x', 'Centroid_Longitude_x', 'Centroid_Latitude_y', 'Centroid_Longitude_y', 'Centroid_Latitude', 'Centroid_Longitude', 'Centroid_Latitude_centroid', 'Centroid_Longitude_centroid']"
     ]
    }
   ],
   "source": [
    "\n",
    "# Step 1: Apply DBSCAN clustering with adjusted parameters\n",
    "#eps_value = 0.05  # Reduce eps further to make the distance sensitivity more granular\n",
    "#min_samples_value = 30  # Slightly higher min_samples to allow only significant clusters\n",
    "\n",
    "# Apply DBSCAN with the new parameters\n",
    "#dbscan = DBSCAN(eps=eps_value, min_samples=min_samples_value, metric='haversine', n_jobs=-1)\n",
    "\n",
    "# Ensure we are modifying the original DataFrame by using .loc[]\n",
    "#london_stops_data.loc[:, 'Cluster'] = dbscan.fit_predict(np.radians(london_stops_data[['Latitude', 'Longitude']]))\n",
    "\n",
    "# Group by clusters to determine the size of each cluster\n",
    "#urban_clusters = london_stops_data.groupby('Cluster').size().sort_values(ascending=False)\n",
    "\n",
    "# Manually assign 'Urban' to large clusters and 'Rural' to smaller clusters\n",
    "#urban_clusters_map = {cluster: 'Urban' if size > 5 else 'Rural' for cluster, size in urban_clusters.items()}\n",
    "\n",
    "# Use .loc[] to assign the UrbanRuralCategory to the appropriate clusters\n",
    "#london_stops_data.loc[:, 'UrbanRuralCategory'] = london_stops_data['Cluster'].map(urban_clusters_map)\n",
    "\n",
    "# Compute centroids for each cluster (cluster center)\n",
    "#centroids = london_stops_data.groupby('Cluster')[['Latitude', 'Longitude']].mean().reset_index()\n",
    "#centroids.rename(columns={'Latitude': 'Centroid_Latitude', 'Longitude': 'Centroid_Longitude'}, inplace=True)\n",
    "\n",
    "# Check if centroids DataFrame is created correctly\n",
    "#print(centroids.head())  # Debug: Check the first few rows of centroids\n",
    "\n",
    "# Merge centroids with original data to match cluster with its centroid\n",
    "# Avoid duplicate column names by renaming columns in centroids\n",
    "#london_stops_data = london_stops_data.merge(centroids, on='Cluster', how='left', suffixes=('', '_centroid'))\n",
    "\n",
    "# Check if the merge was successful\n",
    "#print(london_stops_data[['Cluster', 'Centroid_Latitude_centroid', 'Centroid_Longitude_centroid']].head())  # Debug: Check merge result\n",
    "\n",
    "# Compute nearest neighbor distance to the cluster center\n",
    "#def haversine_distance(lat1, lon1, lat2, lon2):\n",
    " #   return geodesic((lat1, lon1), (lat2, lon2)).meters\n",
    "\n",
    "# Calculate the distance from each stop to its corresponding cluster centroid\n",
    "#london_stops_data['DistanceToCentroid'] = london_stops_data.apply(\n",
    " #   lambda row: haversine_distance(row['Latitude'], row['Longitude'], row['Centroid_Latitude_centroid'], row['Centroid_Longitude_centroid']),\n",
    "  #  axis=1\n",
    "#)\n",
    "\n",
    "# Adjust the threshold for urban vs rural based on the distribution of distances\n",
    "#urban_distance_threshold = london_stops_data['DistanceToCentroid'].quantile(0.5)  # Or 0.75 for stricter definition of \"Urban\"\n",
    "\n",
    "# Recalculate Urban vs Rural categories\n",
    "#london_stops_data['UrbanRuralCategory'] = london_stops_data['DistanceToCentroid'].apply(\n",
    " #   lambda x: 'Urban' if x <= urban_distance_threshold else 'Rural'\n",
    "#)\n",
    "\n",
    "# Check the distribution again\n",
    "#print(london_stops_data['UrbanRuralCategory'].value_counts())\n",
    "\n",
    "# Saving the processed London data with updated clustering\n",
    "#london_stops_data.to_csv('../data/processed/london_stops_with_clusters.csv', index=False)\n",
    "#london_stops_data.to_parquet('../data/processed/london_stops_with_clusters.parquet')\n",
    "#print(\"London stops with updated clustering saved successfully.\")\n"
   ]
  },
  {
   "cell_type": "markdown",
   "id": "c776804a-f3ef-4dab-86a2-0d92c7be170c",
   "metadata": {},
   "source": [
    "Q2. **Locality Groupings**\n",
    "- The data is grouped by LocalityName and LocalityCentre for the sake of aggregation and visualisation in terms of maintenance activities."
   ]
  },
  {
   "cell_type": "code",
   "execution_count": 148,
   "id": "a47884aa-ddce-40cc-b2ca-68f019e4b7e7",
   "metadata": {},
   "outputs": [
    {
     "name": "stdout",
     "output_type": "stream",
     "text": [
      "Q2 processed file for locality grouping in Greater London saved successfully.\n"
     ]
    }
   ],
   "source": [
    "# Create a copy of the Greater London dataset for processing\n",
    "stops_data_q2 = london_stops_data.copy()\n",
    "\n",
    "# Grouping by LocalityName and LocalityCentre\n",
    "locality_grouped = stops_data_q2.groupby(['LocalityName', 'LocalityCentre']).agg({\n",
    "    'StopType': 'count',  # Count of Stop Types\n",
    "    'ModificationDateTime': 'max',  # Most recent modification\n",
    "    'RevisionNumber': 'sum'  # Total revisions\n",
    "}).reset_index()\n",
    "\n",
    "# Renaming the columns for clarity\n",
    "locality_grouped.rename(columns={\n",
    "    'StopType': 'StopCount', \n",
    "    'ModificationDateTime': 'MostRecentModification', \n",
    "    'RevisionNumber': 'TotalRevisions'\n",
    "}, inplace=True)\n",
    "\n",
    "# Saving the processed file\n",
    "locality_grouped.to_csv('../data/processed/q2_processed_london_stops.csv', index=False)\n",
    "locality_grouped.to_parquet('../data/processed/q2_processed_london_stops.parquet')\n",
    "\n",
    "print(\"Q2 processed file for locality grouping in Greater London saved successfully.\")\n"
   ]
  },
  {
   "cell_type": "markdown",
   "id": "bffc64db-fdcf-4c52-b3ba-be59ed44be47",
   "metadata": {},
   "source": [
    "Q3. **Density Calculation by Administrative Area Code**\n",
    "- Here I am calculating the stop density per AdministrativeAreaCode, which is a larger size compared to Q1 grid area density. "
   ]
  },
  {
   "cell_type": "code",
   "execution_count": null,
   "id": "2b7caf85-8f92-4914-a8f3-cf49b16f501c",
   "metadata": {},
   "outputs": [],
   "source": [
    "# Create a copy of the Greater London dataset for processing\n",
    "stops_data_q3 = london_stops_data.copy()\n",
    "\n",
    "# Aggregating localities by AdministrativeAreaCode (to simplify linkage)\n",
    "density_data = stops_data_q3.groupby('AdministrativeAreaCode').agg(\n",
    "    StopCount=('LocalityName', 'count')  # Count the number of stops within each area\n",
    ").reset_index()\n",
    "\n",
    "# Calculating the density (stops per square kilometer)\n",
    "# Using the bounding box defined by Longitude and Latitude for Greater London\n",
    "longitude_range = stops_data_q3['Longitude'].max() - stops_data_q3['Longitude'].min()\n",
    "latitude_range = stops_data_q3['Latitude'].max() - stops_data_q3['Latitude'].min()\n",
    "bounding_box_area = longitude_range * latitude_range  # Area of the bounding box\n",
    "\n",
    "# calculate the density for each AdministrativeAreaCode\n",
    "density_data['Density'] = density_data['StopCount'] / bounding_box_area\n",
    "\n",
    "# Saving the processed file\n",
    "density_data.to_csv('../data/processed/q3_processed_london_stops.csv', index=False)\n",
    "density_data.to_parquet('../data/processed/q3_processed_london_stops.parquet', index=False)\n",
    "\n",
    "print(\"Q3 processed file with density calculation for Greater London saved successfully.\")"
   ]
  },
  {
   "cell_type": "markdown",
   "id": "9009de8e-603f-459b-9a13-682df92abb72",
   "metadata": {},
   "source": [
    "Q4. **The Extraction of Temporal Features**\n",
    "- **Extracting** features from \"CreationDateTime\" and \"ModificationDateTime\" for temporal analysis"
   ]
  },
  {
   "cell_type": "code",
   "execution_count": 157,
   "id": "71c7e958-f645-4b8a-a2e0-177082e20594",
   "metadata": {},
   "outputs": [
    {
     "name": "stdout",
     "output_type": "stream",
     "text": [
      "Q4 processed file with temporal features saved successfully.\n"
     ]
    }
   ],
   "source": [
    "# Assuming `stops_data` is the dataset containing 'CreationDateTime' and 'ModificationDateTime'\n",
    "stops_data_q4 = stops_data.copy()\n",
    "\n",
    "# Ensure CreationDateTime and ModificationDateTime are in datetime format\n",
    "stops_data_q4['CreationDateTime'] = pd.to_datetime(stops_data_q4['CreationDateTime'], errors='coerce')\n",
    "stops_data_q4['ModificationDateTime'] = pd.to_datetime(stops_data_q4['ModificationDateTime'], errors='coerce')\n",
    "\n",
    "# Extracting the temporal features\n",
    "stops_data_q4['TimeSinceCreation'] = (pd.Timestamp.now(tz='UTC') - stops_data_q4['CreationDateTime']).dt.days\n",
    "stops_data_q4['TimeSinceModification'] = (pd.Timestamp.now(tz='UTC') - stops_data_q4['ModificationDateTime']).dt.days\n",
    "\n",
    "# Selecting relevant features for further analysis\n",
    "temporal_features = stops_data_q4[['ATCOCode', 'TimeSinceCreation', 'TimeSinceModification']]\n",
    "\n",
    "# Saving the processed file with temporal features\n",
    "temporal_features.to_csv('../data/processed/q4_processed_stops.csv', index=False)\n",
    "temporal_features.to_parquet('../data/processed/q4_processed_stops.parquet', index=False)\n",
    "\n",
    "print(\"Q4 processed file with temporal features saved successfully.\")"
   ]
  },
  {
   "cell_type": "code",
   "execution_count": 153,
   "id": "6ef04704-01d1-476b-b239-81d210374cce",
   "metadata": {},
   "outputs": [
    {
     "name": "stdout",
     "output_type": "stream",
     "text": [
      "Index(['AdministrativeAreaCode', 'StopCount', 'Density'], dtype='object')\n"
     ]
    }
   ],
   "source": []
  },
  {
   "cell_type": "code",
   "execution_count": null,
   "id": "b685e6ab-1c87-46dc-80ce-afbb0efcb5ec",
   "metadata": {},
   "outputs": [],
   "source": []
  }
 ],
 "metadata": {
  "kernelspec": {
   "display_name": "Python 3 (ipykernel)",
   "language": "python",
   "name": "python3"
  },
  "language_info": {
   "codemirror_mode": {
    "name": "ipython",
    "version": 3
   },
   "file_extension": ".py",
   "mimetype": "text/x-python",
   "name": "python",
   "nbconvert_exporter": "python",
   "pygments_lexer": "ipython3",
   "version": "3.11.7"
  }
 },
 "nbformat": 4,
 "nbformat_minor": 5
}
